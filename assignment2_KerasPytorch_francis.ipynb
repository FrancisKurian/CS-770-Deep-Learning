{
  "cells": [
    {
      "cell_type": "markdown",
      "id": "50d7e7a8",
      "metadata": {
        "id": "50d7e7a8"
      },
      "source": [
        "# Assignment 2: Programming MLPs in Keras and PyTorch\n",
        "\n",
        "We will use the Bank Marketing Data Set from UCI Machine Learning Repository: https://archive.ics.uci.edu/ml/datasets/bank+marketing"
      ]
    },
    {
      "cell_type": "code",
      "execution_count": 1,
      "id": "b764c272",
      "metadata": {
        "id": "b764c272"
      },
      "outputs": [],
      "source": [
        "import pandas as pd\n",
        "import numpy as np\n",
        "import matplotlib.pyplot as plt\n",
        "# sklearn\n",
        "from sklearn import metrics\n",
        "from sklearn.model_selection import train_test_split, StratifiedShuffleSplit\n",
        "\n",
        "# Tensorflow\n",
        "import tensorflow as tf\n",
        "from tensorflow import keras\n",
        "from tensorflow.keras import layers\n",
        "from sklearn import preprocessing\n",
        "\n",
        "from keras.models import Sequential\n",
        "from keras.layers import Dense, Dropout, BatchNormalization\n",
        "from keras import optimizers, losses, metrics\n",
        "from keras.callbacks import EarlyStopping\n",
        "from keras.callbacks import ModelCheckpoint\n",
        "from keras.regularizers import L2\n"
      ]
    },
    {
      "cell_type": "markdown",
      "id": "211303f0",
      "metadata": {
        "id": "211303f0"
      },
      "source": [
        "## Load the dataset\n",
        "Load the bank-additional dataset: "
      ]
    },
    {
      "cell_type": "code",
      "execution_count": 2,
      "id": "fcd69a6d",
      "metadata": {
        "id": "fcd69a6d",
        "outputId": "2b05ee21-329f-4a99-9574-1913d1de434c",
        "colab": {
          "base_uri": "https://localhost:8080/"
        }
      },
      "outputs": [
        {
          "output_type": "stream",
          "name": "stdout",
          "text": [
            "<class 'pandas.core.frame.DataFrame'>\n",
            "RangeIndex: 41188 entries, 0 to 41187\n",
            "Data columns (total 21 columns):\n",
            " #   Column          Non-Null Count  Dtype  \n",
            "---  ------          --------------  -----  \n",
            " 0   age             41188 non-null  int64  \n",
            " 1   job             41188 non-null  object \n",
            " 2   marital         41188 non-null  object \n",
            " 3   education       41188 non-null  object \n",
            " 4   default         41188 non-null  object \n",
            " 5   housing         41188 non-null  object \n",
            " 6   loan            41188 non-null  object \n",
            " 7   contact         41188 non-null  object \n",
            " 8   month           41188 non-null  object \n",
            " 9   day_of_week     41188 non-null  object \n",
            " 10  duration        41188 non-null  int64  \n",
            " 11  campaign        41188 non-null  int64  \n",
            " 12  pdays           41188 non-null  int64  \n",
            " 13  previous        41188 non-null  int64  \n",
            " 14  poutcome        41188 non-null  object \n",
            " 15  emp.var.rate    41188 non-null  float64\n",
            " 16  cons.price.idx  41188 non-null  float64\n",
            " 17  cons.conf.idx   41188 non-null  float64\n",
            " 18  euribor3m       41188 non-null  float64\n",
            " 19  nr.employed     41188 non-null  float64\n",
            " 20  y               41188 non-null  object \n",
            "dtypes: float64(5), int64(5), object(11)\n",
            "memory usage: 6.6+ MB\n"
          ]
        }
      ],
      "source": [
        "data_path=\"/content/bank-additional-full.csv\"\n",
        "\n",
        "df = pd.read_csv(data_path, sep=\";\")\n",
        "df.info()"
      ]
    },
    {
      "cell_type": "code",
      "execution_count": 20,
      "id": "702b27f5",
      "metadata": {
        "id": "702b27f5",
        "outputId": "11635f52-c872-4c29-e760-994ab3878c6e",
        "colab": {
          "base_uri": "https://localhost:8080/",
          "height": 299
        }
      },
      "outputs": [
        {
          "output_type": "execute_result",
          "data": {
            "text/plain": [
              "   age        job  marital    education  default housing loan    contact  \\\n",
              "0   56  housemaid  married     basic.4y       no      no   no  telephone   \n",
              "1   57   services  married  high.school  unknown      no   no  telephone   \n",
              "2   37   services  married  high.school       no     yes   no  telephone   \n",
              "3   40     admin.  married     basic.6y       no      no   no  telephone   \n",
              "4   56   services  married  high.school       no      no  yes  telephone   \n",
              "\n",
              "  month day_of_week  ...  campaign  pdays  previous     poutcome emp.var.rate  \\\n",
              "0   may         mon  ...         1    999         0  nonexistent          1.1   \n",
              "1   may         mon  ...         1    999         0  nonexistent          1.1   \n",
              "2   may         mon  ...         1    999         0  nonexistent          1.1   \n",
              "3   may         mon  ...         1    999         0  nonexistent          1.1   \n",
              "4   may         mon  ...         1    999         0  nonexistent          1.1   \n",
              "\n",
              "   cons.price.idx  cons.conf.idx  euribor3m  nr.employed   y  \n",
              "0          93.994          -36.4      4.857       5191.0  no  \n",
              "1          93.994          -36.4      4.857       5191.0  no  \n",
              "2          93.994          -36.4      4.857       5191.0  no  \n",
              "3          93.994          -36.4      4.857       5191.0  no  \n",
              "4          93.994          -36.4      4.857       5191.0  no  \n",
              "\n",
              "[5 rows x 21 columns]"
            ],
            "text/html": [
              "\n",
              "  <div id=\"df-833ab61c-ba59-4173-a46d-e00bb0a7de0e\">\n",
              "    <div class=\"colab-df-container\">\n",
              "      <div>\n",
              "<style scoped>\n",
              "    .dataframe tbody tr th:only-of-type {\n",
              "        vertical-align: middle;\n",
              "    }\n",
              "\n",
              "    .dataframe tbody tr th {\n",
              "        vertical-align: top;\n",
              "    }\n",
              "\n",
              "    .dataframe thead th {\n",
              "        text-align: right;\n",
              "    }\n",
              "</style>\n",
              "<table border=\"1\" class=\"dataframe\">\n",
              "  <thead>\n",
              "    <tr style=\"text-align: right;\">\n",
              "      <th></th>\n",
              "      <th>age</th>\n",
              "      <th>job</th>\n",
              "      <th>marital</th>\n",
              "      <th>education</th>\n",
              "      <th>default</th>\n",
              "      <th>housing</th>\n",
              "      <th>loan</th>\n",
              "      <th>contact</th>\n",
              "      <th>month</th>\n",
              "      <th>day_of_week</th>\n",
              "      <th>...</th>\n",
              "      <th>campaign</th>\n",
              "      <th>pdays</th>\n",
              "      <th>previous</th>\n",
              "      <th>poutcome</th>\n",
              "      <th>emp.var.rate</th>\n",
              "      <th>cons.price.idx</th>\n",
              "      <th>cons.conf.idx</th>\n",
              "      <th>euribor3m</th>\n",
              "      <th>nr.employed</th>\n",
              "      <th>y</th>\n",
              "    </tr>\n",
              "  </thead>\n",
              "  <tbody>\n",
              "    <tr>\n",
              "      <th>0</th>\n",
              "      <td>56</td>\n",
              "      <td>housemaid</td>\n",
              "      <td>married</td>\n",
              "      <td>basic.4y</td>\n",
              "      <td>no</td>\n",
              "      <td>no</td>\n",
              "      <td>no</td>\n",
              "      <td>telephone</td>\n",
              "      <td>may</td>\n",
              "      <td>mon</td>\n",
              "      <td>...</td>\n",
              "      <td>1</td>\n",
              "      <td>999</td>\n",
              "      <td>0</td>\n",
              "      <td>nonexistent</td>\n",
              "      <td>1.1</td>\n",
              "      <td>93.994</td>\n",
              "      <td>-36.4</td>\n",
              "      <td>4.857</td>\n",
              "      <td>5191.0</td>\n",
              "      <td>no</td>\n",
              "    </tr>\n",
              "    <tr>\n",
              "      <th>1</th>\n",
              "      <td>57</td>\n",
              "      <td>services</td>\n",
              "      <td>married</td>\n",
              "      <td>high.school</td>\n",
              "      <td>unknown</td>\n",
              "      <td>no</td>\n",
              "      <td>no</td>\n",
              "      <td>telephone</td>\n",
              "      <td>may</td>\n",
              "      <td>mon</td>\n",
              "      <td>...</td>\n",
              "      <td>1</td>\n",
              "      <td>999</td>\n",
              "      <td>0</td>\n",
              "      <td>nonexistent</td>\n",
              "      <td>1.1</td>\n",
              "      <td>93.994</td>\n",
              "      <td>-36.4</td>\n",
              "      <td>4.857</td>\n",
              "      <td>5191.0</td>\n",
              "      <td>no</td>\n",
              "    </tr>\n",
              "    <tr>\n",
              "      <th>2</th>\n",
              "      <td>37</td>\n",
              "      <td>services</td>\n",
              "      <td>married</td>\n",
              "      <td>high.school</td>\n",
              "      <td>no</td>\n",
              "      <td>yes</td>\n",
              "      <td>no</td>\n",
              "      <td>telephone</td>\n",
              "      <td>may</td>\n",
              "      <td>mon</td>\n",
              "      <td>...</td>\n",
              "      <td>1</td>\n",
              "      <td>999</td>\n",
              "      <td>0</td>\n",
              "      <td>nonexistent</td>\n",
              "      <td>1.1</td>\n",
              "      <td>93.994</td>\n",
              "      <td>-36.4</td>\n",
              "      <td>4.857</td>\n",
              "      <td>5191.0</td>\n",
              "      <td>no</td>\n",
              "    </tr>\n",
              "    <tr>\n",
              "      <th>3</th>\n",
              "      <td>40</td>\n",
              "      <td>admin.</td>\n",
              "      <td>married</td>\n",
              "      <td>basic.6y</td>\n",
              "      <td>no</td>\n",
              "      <td>no</td>\n",
              "      <td>no</td>\n",
              "      <td>telephone</td>\n",
              "      <td>may</td>\n",
              "      <td>mon</td>\n",
              "      <td>...</td>\n",
              "      <td>1</td>\n",
              "      <td>999</td>\n",
              "      <td>0</td>\n",
              "      <td>nonexistent</td>\n",
              "      <td>1.1</td>\n",
              "      <td>93.994</td>\n",
              "      <td>-36.4</td>\n",
              "      <td>4.857</td>\n",
              "      <td>5191.0</td>\n",
              "      <td>no</td>\n",
              "    </tr>\n",
              "    <tr>\n",
              "      <th>4</th>\n",
              "      <td>56</td>\n",
              "      <td>services</td>\n",
              "      <td>married</td>\n",
              "      <td>high.school</td>\n",
              "      <td>no</td>\n",
              "      <td>no</td>\n",
              "      <td>yes</td>\n",
              "      <td>telephone</td>\n",
              "      <td>may</td>\n",
              "      <td>mon</td>\n",
              "      <td>...</td>\n",
              "      <td>1</td>\n",
              "      <td>999</td>\n",
              "      <td>0</td>\n",
              "      <td>nonexistent</td>\n",
              "      <td>1.1</td>\n",
              "      <td>93.994</td>\n",
              "      <td>-36.4</td>\n",
              "      <td>4.857</td>\n",
              "      <td>5191.0</td>\n",
              "      <td>no</td>\n",
              "    </tr>\n",
              "  </tbody>\n",
              "</table>\n",
              "<p>5 rows × 21 columns</p>\n",
              "</div>\n",
              "      <button class=\"colab-df-convert\" onclick=\"convertToInteractive('df-833ab61c-ba59-4173-a46d-e00bb0a7de0e')\"\n",
              "              title=\"Convert this dataframe to an interactive table.\"\n",
              "              style=\"display:none;\">\n",
              "        \n",
              "  <svg xmlns=\"http://www.w3.org/2000/svg\" height=\"24px\"viewBox=\"0 0 24 24\"\n",
              "       width=\"24px\">\n",
              "    <path d=\"M0 0h24v24H0V0z\" fill=\"none\"/>\n",
              "    <path d=\"M18.56 5.44l.94 2.06.94-2.06 2.06-.94-2.06-.94-.94-2.06-.94 2.06-2.06.94zm-11 1L8.5 8.5l.94-2.06 2.06-.94-2.06-.94L8.5 2.5l-.94 2.06-2.06.94zm10 10l.94 2.06.94-2.06 2.06-.94-2.06-.94-.94-2.06-.94 2.06-2.06.94z\"/><path d=\"M17.41 7.96l-1.37-1.37c-.4-.4-.92-.59-1.43-.59-.52 0-1.04.2-1.43.59L10.3 9.45l-7.72 7.72c-.78.78-.78 2.05 0 2.83L4 21.41c.39.39.9.59 1.41.59.51 0 1.02-.2 1.41-.59l7.78-7.78 2.81-2.81c.8-.78.8-2.07 0-2.86zM5.41 20L4 18.59l7.72-7.72 1.47 1.35L5.41 20z\"/>\n",
              "  </svg>\n",
              "      </button>\n",
              "      \n",
              "  <style>\n",
              "    .colab-df-container {\n",
              "      display:flex;\n",
              "      flex-wrap:wrap;\n",
              "      gap: 12px;\n",
              "    }\n",
              "\n",
              "    .colab-df-convert {\n",
              "      background-color: #E8F0FE;\n",
              "      border: none;\n",
              "      border-radius: 50%;\n",
              "      cursor: pointer;\n",
              "      display: none;\n",
              "      fill: #1967D2;\n",
              "      height: 32px;\n",
              "      padding: 0 0 0 0;\n",
              "      width: 32px;\n",
              "    }\n",
              "\n",
              "    .colab-df-convert:hover {\n",
              "      background-color: #E2EBFA;\n",
              "      box-shadow: 0px 1px 2px rgba(60, 64, 67, 0.3), 0px 1px 3px 1px rgba(60, 64, 67, 0.15);\n",
              "      fill: #174EA6;\n",
              "    }\n",
              "\n",
              "    [theme=dark] .colab-df-convert {\n",
              "      background-color: #3B4455;\n",
              "      fill: #D2E3FC;\n",
              "    }\n",
              "\n",
              "    [theme=dark] .colab-df-convert:hover {\n",
              "      background-color: #434B5C;\n",
              "      box-shadow: 0px 1px 3px 1px rgba(0, 0, 0, 0.15);\n",
              "      filter: drop-shadow(0px 1px 2px rgba(0, 0, 0, 0.3));\n",
              "      fill: #FFFFFF;\n",
              "    }\n",
              "  </style>\n",
              "\n",
              "      <script>\n",
              "        const buttonEl =\n",
              "          document.querySelector('#df-833ab61c-ba59-4173-a46d-e00bb0a7de0e button.colab-df-convert');\n",
              "        buttonEl.style.display =\n",
              "          google.colab.kernel.accessAllowed ? 'block' : 'none';\n",
              "\n",
              "        async function convertToInteractive(key) {\n",
              "          const element = document.querySelector('#df-833ab61c-ba59-4173-a46d-e00bb0a7de0e');\n",
              "          const dataTable =\n",
              "            await google.colab.kernel.invokeFunction('convertToInteractive',\n",
              "                                                     [key], {});\n",
              "          if (!dataTable) return;\n",
              "\n",
              "          const docLinkHtml = 'Like what you see? Visit the ' +\n",
              "            '<a target=\"_blank\" href=https://colab.research.google.com/notebooks/data_table.ipynb>data table notebook</a>'\n",
              "            + ' to learn more about interactive tables.';\n",
              "          element.innerHTML = '';\n",
              "          dataTable['output_type'] = 'display_data';\n",
              "          await google.colab.output.renderOutput(dataTable, element);\n",
              "          const docLink = document.createElement('div');\n",
              "          docLink.innerHTML = docLinkHtml;\n",
              "          element.appendChild(docLink);\n",
              "        }\n",
              "      </script>\n",
              "    </div>\n",
              "  </div>\n",
              "  "
            ]
          },
          "metadata": {},
          "execution_count": 20
        }
      ],
      "source": [
        "df.head()"
      ]
    },
    {
      "cell_type": "code",
      "execution_count": 21,
      "id": "63006c4e",
      "metadata": {
        "id": "63006c4e",
        "outputId": "468c52b1-f89f-472e-e79c-006952deb25a",
        "colab": {
          "base_uri": "https://localhost:8080/"
        }
      },
      "outputs": [
        {
          "output_type": "execute_result",
          "data": {
            "text/plain": [
              "(41188, 21)"
            ]
          },
          "metadata": {},
          "execution_count": 21
        }
      ],
      "source": [
        "df.shape"
      ]
    },
    {
      "cell_type": "markdown",
      "id": "d32646bc",
      "metadata": {
        "id": "d32646bc"
      },
      "source": [
        "Does the dataset has imbalance in its label classes?"
      ]
    },
    {
      "cell_type": "code",
      "execution_count": 3,
      "id": "39a7344d",
      "metadata": {
        "id": "39a7344d",
        "outputId": "a1cfb6da-09e3-46e9-c0b1-632ac23f1fc9",
        "colab": {
          "base_uri": "https://localhost:8080/"
        }
      },
      "outputs": [
        {
          "output_type": "execute_result",
          "data": {
            "text/plain": [
              "no     0.887346\n",
              "yes    0.112654\n",
              "Name: y, dtype: float64"
            ]
          },
          "metadata": {},
          "execution_count": 3
        }
      ],
      "source": [
        "df.y.value_counts()/len(df.y)"
      ]
    },
    {
      "cell_type": "markdown",
      "id": "8c85b60f",
      "metadata": {
        "id": "8c85b60f"
      },
      "source": [
        "Let's convert categorical variables to dummy and also seperate the X and y:"
      ]
    },
    {
      "cell_type": "code",
      "execution_count": 4,
      "id": "ca7c401b",
      "metadata": {
        "id": "ca7c401b"
      },
      "outputs": [],
      "source": [
        "X = df.copy()\n",
        "del X['y']\n",
        "X = pd.get_dummies(X, drop_first=True)\n",
        "y = np.where(df.y == \"yes\", 1, 0)"
      ]
    },
    {
      "cell_type": "markdown",
      "id": "fb4f3fb3",
      "metadata": {
        "id": "fb4f3fb3"
      },
      "source": [
        "## Keras"
      ]
    },
    {
      "cell_type": "markdown",
      "id": "a064414d",
      "metadata": {
        "id": "a064414d"
      },
      "source": [
        "Split into 20\\% validation and th rest test:"
      ]
    },
    {
      "cell_type": "code",
      "execution_count": 5,
      "id": "685195aa",
      "metadata": {
        "id": "685195aa"
      },
      "outputs": [],
      "source": [
        "X_train, X_test, y_train, y_test = train_test_split(X, y,        \n",
        "                                    test_size = 0.2, random_state = 1)"
      ]
    },
    {
      "cell_type": "markdown",
      "id": "0a5184bc",
      "metadata": {
        "id": "0a5184bc"
      },
      "source": [
        "Standardize the input values using a standard scaler"
      ]
    },
    {
      "cell_type": "code",
      "execution_count": 6,
      "id": "ff83de79",
      "metadata": {
        "id": "ff83de79"
      },
      "outputs": [],
      "source": [
        "scaler = preprocessing.StandardScaler()\n",
        "X_train_std = scaler.fit_transform(X_train)\n",
        "X_test_std = scaler.transform(X_test)"
      ]
    },
    {
      "cell_type": "markdown",
      "id": "464cd48c",
      "metadata": {
        "id": "464cd48c"
      },
      "source": [
        "Define a model in Keras with two hidden layers of size 10 and 8 with a ReLU activation function. The output layer will be sigmoid. use adam optimizer and binary_cross entropy with accuracy metrics. Run the training for 10 epochs."
      ]
    },
    {
      "cell_type": "code",
      "execution_count": 7,
      "id": "ee886b2f",
      "metadata": {
        "id": "ee886b2f",
        "colab": {
          "base_uri": "https://localhost:8080/"
        },
        "outputId": "f0ffe7ef-2266-49be-c22a-56b117ebdf4e"
      },
      "outputs": [
        {
          "output_type": "stream",
          "name": "stdout",
          "text": [
            "Epoch 1/10\n",
            "1318/1318 [==============================] - 4s 2ms/step - loss: 0.3045 - accuracy: 0.8741 - val_loss: 0.2021 - val_accuracy: 0.9086\n",
            "Epoch 2/10\n",
            "1318/1318 [==============================] - 3s 2ms/step - loss: 0.1953 - accuracy: 0.9086 - val_loss: 0.1944 - val_accuracy: 0.9088\n",
            "Epoch 3/10\n",
            "1318/1318 [==============================] - 3s 2ms/step - loss: 0.1889 - accuracy: 0.9108 - val_loss: 0.1913 - val_accuracy: 0.9068\n",
            "Epoch 4/10\n",
            "1318/1318 [==============================] - 4s 3ms/step - loss: 0.1855 - accuracy: 0.9114 - val_loss: 0.1909 - val_accuracy: 0.9086\n",
            "Epoch 5/10\n",
            "1318/1318 [==============================] - 3s 2ms/step - loss: 0.1837 - accuracy: 0.9122 - val_loss: 0.1898 - val_accuracy: 0.9083\n",
            "Epoch 6/10\n",
            "1318/1318 [==============================] - 3s 2ms/step - loss: 0.1819 - accuracy: 0.9125 - val_loss: 0.1890 - val_accuracy: 0.9088\n",
            "Epoch 7/10\n",
            "1318/1318 [==============================] - 3s 2ms/step - loss: 0.1806 - accuracy: 0.9137 - val_loss: 0.1897 - val_accuracy: 0.9090\n",
            "Epoch 8/10\n",
            "1318/1318 [==============================] - 4s 3ms/step - loss: 0.1798 - accuracy: 0.9137 - val_loss: 0.1878 - val_accuracy: 0.9077\n",
            "Epoch 9/10\n",
            "1318/1318 [==============================] - 3s 2ms/step - loss: 0.1792 - accuracy: 0.9145 - val_loss: 0.1902 - val_accuracy: 0.9068\n",
            "Epoch 10/10\n",
            "1318/1318 [==============================] - 3s 2ms/step - loss: 0.1782 - accuracy: 0.9155 - val_loss: 0.1898 - val_accuracy: 0.9074\n"
          ]
        }
      ],
      "source": [
        "batch_size = 20\n",
        "epochs = 10\n",
        "\n",
        "model = Sequential()\n",
        "#CODE HERE\n",
        "model.add(Dense(10, activation='relu', input_shape=(X_train_std.shape[1],)))\n",
        "model.add(Dense(8, activation='relu'))\n",
        "model.add(Dense(1, activation='sigmoid'))\n",
        "\n",
        "opt = keras.optimizers.Adam(learning_rate=0.001)\n",
        "model.compile(loss='binary_crossentropy', optimizer=opt, metrics=['accuracy'])\n",
        "\n",
        "history = model.fit(X_train_std, y_train, batch_size=batch_size, epochs=epochs, validation_split=0.2, verbose=1)\n"
      ]
    },
    {
      "cell_type": "code",
      "execution_count": 8,
      "id": "a188ce5d",
      "metadata": {
        "id": "a188ce5d",
        "colab": {
          "base_uri": "https://localhost:8080/"
        },
        "outputId": "a840a85c-2aac-4862-8a25-5b0ec31b4e61"
      },
      "outputs": [
        {
          "output_type": "stream",
          "name": "stdout",
          "text": [
            "Test loss: 0.19455069303512573\n",
            "Test accuracy: 0.9071376323699951\n"
          ]
        }
      ],
      "source": [
        "score = model.evaluate(X_test_std, y_test, verbose=0)\n",
        "print('Test loss:', score[0])\n",
        "print('Test accuracy:', score[1])"
      ]
    },
    {
      "cell_type": "markdown",
      "id": "4f3d920e",
      "metadata": {
        "id": "4f3d920e"
      },
      "source": [
        "Plot the train and validation over the number of epoch"
      ]
    },
    {
      "cell_type": "code",
      "execution_count": 28,
      "id": "fe64e0de",
      "metadata": {
        "id": "fe64e0de",
        "colab": {
          "base_uri": "https://localhost:8080/",
          "height": 430
        },
        "outputId": "047d92e7-802e-4055-f305-d892da19c392"
      },
      "outputs": [
        {
          "output_type": "display_data",
          "data": {
            "text/plain": [
              "<Figure size 640x480 with 1 Axes>"
            ],
            "image/png": "[encoded data removed]"
          },
          "metadata": {}
        }
      ],
      "source": [
        "plt.plot(history.history['loss'], label=\"train-loss\")\n",
        "plt.plot(history.history['val_loss'], label=\"val-loss\")\n",
        "plt.legend()\n",
        "plt.show()"
      ]
    },
    {
      "cell_type": "markdown",
      "id": "8e664b01",
      "metadata": {
        "id": "8e664b01"
      },
      "source": [
        "### Regularization\n",
        "Regularize the model above using dropouts(0.2 parameter)and early stopping (patience=2). Train the model and compare the performance."
      ]
    },
    {
      "cell_type": "code",
      "execution_count": 29,
      "id": "b13a9a5a",
      "metadata": {
        "id": "b13a9a5a",
        "colab": {
          "base_uri": "https://localhost:8080/",
          "height": 951
        },
        "outputId": "5ddb6bdf-1905-4c42-ed0b-dffd8f8c7aba"
      },
      "outputs": [
        {
          "output_type": "stream",
          "name": "stdout",
          "text": [
            "Epoch 1/100\n",
            "1318/1318 [==============================] - 3s 2ms/step - loss: 0.2728 - accuracy: 0.8897 - val_loss: 0.1976 - val_accuracy: 0.9049\n",
            "Epoch 2/100\n",
            "1318/1318 [==============================] - 2s 2ms/step - loss: 0.2128 - accuracy: 0.9016 - val_loss: 0.1902 - val_accuracy: 0.9041\n",
            "Epoch 3/100\n",
            "1318/1318 [==============================] - 2s 2ms/step - loss: 0.2043 - accuracy: 0.9016 - val_loss: 0.1888 - val_accuracy: 0.9065\n",
            "Epoch 4/100\n",
            "1318/1318 [==============================] - 2s 2ms/step - loss: 0.2002 - accuracy: 0.9036 - val_loss: 0.1884 - val_accuracy: 0.9068\n",
            "Epoch 5/100\n",
            "1318/1318 [==============================] - 3s 2ms/step - loss: 0.1965 - accuracy: 0.9053 - val_loss: 0.1871 - val_accuracy: 0.9094\n",
            "Epoch 6/100\n",
            "1318/1318 [==============================] - 2s 2ms/step - loss: 0.1952 - accuracy: 0.9055 - val_loss: 0.1858 - val_accuracy: 0.9091\n",
            "Epoch 7/100\n",
            "1318/1318 [==============================] - 2s 2ms/step - loss: 0.1950 - accuracy: 0.9082 - val_loss: 0.1856 - val_accuracy: 0.9103\n",
            "Epoch 8/100\n",
            "1318/1318 [==============================] - 2s 2ms/step - loss: 0.1915 - accuracy: 0.9091 - val_loss: 0.1849 - val_accuracy: 0.9106\n",
            "Epoch 9/100\n",
            "1318/1318 [==============================] - 2s 2ms/step - loss: 0.1937 - accuracy: 0.9092 - val_loss: 0.1850 - val_accuracy: 0.9094\n",
            "Epoch 10/100\n",
            "1318/1318 [==============================] - 3s 2ms/step - loss: 0.1905 - accuracy: 0.9075 - val_loss: 0.1841 - val_accuracy: 0.9124\n",
            "Epoch 11/100\n",
            "1318/1318 [==============================] - 2s 2ms/step - loss: 0.1899 - accuracy: 0.9089 - val_loss: 0.1849 - val_accuracy: 0.9103\n",
            "Epoch 12/100\n",
            "1318/1318 [==============================] - 3s 2ms/step - loss: 0.1882 - accuracy: 0.9099 - val_loss: 0.1838 - val_accuracy: 0.9102\n",
            "Epoch 13/100\n",
            "1318/1318 [==============================] - 2s 2ms/step - loss: 0.1881 - accuracy: 0.9105 - val_loss: 0.1856 - val_accuracy: 0.9106\n",
            "Epoch 14/100\n",
            "1318/1318 [==============================] - 2s 2ms/step - loss: 0.1890 - accuracy: 0.9078 - val_loss: 0.1850 - val_accuracy: 0.9109\n",
            "Test loss: 0.19045758247375488\n",
            "Test accuracy: 0.9110220670700073\n"
          ]
        },
        {
          "output_type": "display_data",
          "data": {
            "text/plain": [
              "<Figure size 640x480 with 1 Axes>"
            ],
            "image/png": "[encoded data removed]"
          },
          "metadata": {}
        }
      ],
      "source": [
        "batch_size = 20\n",
        "epochs = 100\n",
        "\n",
        "model = Sequential()\n",
        "# CODE HERE\n",
        "model.add(Dense(10, activation='relu', input_dim=X_train_std.shape[1]))\n",
        "model.add(Dropout(0.2))\n",
        "model.add(Dense(8, activation='relu'))\n",
        "model.add(Dropout(0.2))\n",
        "model.add(Dense(1, activation='sigmoid'))\n",
        "\n",
        "model.compile(optimizer='adam', loss='binary_crossentropy', metrics=['accuracy'])\n",
        "\n",
        "early_stop = EarlyStopping(monitor='val_loss', patience=2)\n",
        "\n",
        "history = model.fit(X_train_std, y_train, \n",
        "                    validation_split=0.2, \n",
        "                    batch_size=batch_size, epochs=epochs, \n",
        "                    callbacks=[early_stop], verbose=1)\n",
        "\n",
        "score = model.evaluate(X_test_std, y_test, verbose=0)\n",
        "print('Test loss:', score[0])\n",
        "print('Test accuracy:', score[1])\n",
        "\n",
        "plt.plot(history.history['loss'], label=\"train-loss\")\n",
        "plt.plot(history.history['val_loss'], label=\"val-loss\")\n",
        "plt.legend()\n",
        "plt.show()\n",
        "\n",
        "\n"
      ]
    },
    {
      "cell_type": "markdown",
      "source": [
        "# Another Approach"
      ],
      "metadata": {
        "id": "fNusEGvnUvMB"
      },
      "id": "fNusEGvnUvMB"
    },
    {
      "cell_type": "code",
      "source": [
        "from keras.callbacks import EarlyStopping\n",
        "from keras.layers import Dropout\n",
        "\n",
        "batch_size = 20\n",
        "epochs = 100\n",
        "\n",
        "model = Sequential()\n",
        "model.add(Dense(10, activation='relu', input_shape=(X_train_std.shape[1],)))\n",
        "model.add(Dropout(0.2))\n",
        "model.add(Dense(8, activation='relu'))\n",
        "model.add(Dropout(0.2))\n",
        "model.add(Dense(1, activation='sigmoid'))\n",
        "\n",
        "opt = keras.optimizers.Adam(learning_rate=0.001)\n",
        "model.compile(loss='binary_crossentropy', optimizer=opt, metrics=['accuracy'])\n",
        "\n",
        "es = EarlyStopping(monitor='val_loss', mode='min', verbose=1, patience=2)\n",
        "\n",
        "history = model.fit(X_train_std, y_train, batch_size=batch_size, epochs=epochs, validation_split=0.2, verbose=1, callbacks=[es])\n"
      ],
      "metadata": {
        "colab": {
          "base_uri": "https://localhost:8080/"
        },
        "id": "7TymXDRaUMd3",
        "outputId": "a3e0d53e-88d7-4aac-a3fc-d6f5de0d6f3d"
      },
      "id": "7TymXDRaUMd3",
      "execution_count": 16,
      "outputs": [
        {
          "output_type": "stream",
          "name": "stdout",
          "text": [
            "Epoch 1/100\n",
            "1318/1318 [==============================] - 3s 2ms/step - loss: 0.3026 - accuracy: 0.8858 - val_loss: 0.2096 - val_accuracy: 0.8985\n",
            "Epoch 2/100\n",
            "1318/1318 [==============================] - 3s 2ms/step - loss: 0.2172 - accuracy: 0.8982 - val_loss: 0.1931 - val_accuracy: 0.9062\n",
            "Epoch 3/100\n",
            "1318/1318 [==============================] - 2s 2ms/step - loss: 0.2039 - accuracy: 0.9005 - val_loss: 0.1896 - val_accuracy: 0.9077\n",
            "Epoch 4/100\n",
            "1318/1318 [==============================] - 2s 2ms/step - loss: 0.2005 - accuracy: 0.9021 - val_loss: 0.1883 - val_accuracy: 0.9076\n",
            "Epoch 5/100\n",
            "1318/1318 [==============================] - 2s 2ms/step - loss: 0.1960 - accuracy: 0.9053 - val_loss: 0.1878 - val_accuracy: 0.9077\n",
            "Epoch 6/100\n",
            "1318/1318 [==============================] - 2s 2ms/step - loss: 0.1937 - accuracy: 0.9057 - val_loss: 0.1873 - val_accuracy: 0.9094\n",
            "Epoch 7/100\n",
            "1318/1318 [==============================] - 2s 2ms/step - loss: 0.1921 - accuracy: 0.9064 - val_loss: 0.1867 - val_accuracy: 0.9117\n",
            "Epoch 8/100\n",
            "1318/1318 [==============================] - 2s 2ms/step - loss: 0.1913 - accuracy: 0.9070 - val_loss: 0.1864 - val_accuracy: 0.9114\n",
            "Epoch 9/100\n",
            "1318/1318 [==============================] - 2s 2ms/step - loss: 0.1900 - accuracy: 0.9092 - val_loss: 0.1866 - val_accuracy: 0.9096\n",
            "Epoch 10/100\n",
            "1318/1318 [==============================] - 2s 2ms/step - loss: 0.1879 - accuracy: 0.9082 - val_loss: 0.1864 - val_accuracy: 0.9093\n",
            "Epoch 11/100\n",
            "1318/1318 [==============================] - 2s 2ms/step - loss: 0.1879 - accuracy: 0.9081 - val_loss: 0.1869 - val_accuracy: 0.9099\n",
            "Epoch 12/100\n",
            "1318/1318 [==============================] - 2s 2ms/step - loss: 0.1871 - accuracy: 0.9099 - val_loss: 0.1860 - val_accuracy: 0.9111\n",
            "Epoch 13/100\n",
            "1318/1318 [==============================] - 2s 2ms/step - loss: 0.1867 - accuracy: 0.9107 - val_loss: 0.1867 - val_accuracy: 0.9105\n",
            "Epoch 14/100\n",
            "1318/1318 [==============================] - 2s 2ms/step - loss: 0.1879 - accuracy: 0.9095 - val_loss: 0.1851 - val_accuracy: 0.9103\n",
            "Epoch 15/100\n",
            "1318/1318 [==============================] - 2s 2ms/step - loss: 0.1875 - accuracy: 0.9090 - val_loss: 0.1859 - val_accuracy: 0.9103\n",
            "Epoch 16/100\n",
            "1318/1318 [==============================] - 2s 2ms/step - loss: 0.1868 - accuracy: 0.9092 - val_loss: 0.1848 - val_accuracy: 0.9099\n",
            "Epoch 17/100\n",
            "1318/1318 [==============================] - 2s 2ms/step - loss: 0.1866 - accuracy: 0.9093 - val_loss: 0.1854 - val_accuracy: 0.9103\n",
            "Epoch 18/100\n",
            "1318/1318 [==============================] - 3s 2ms/step - loss: 0.1865 - accuracy: 0.9104 - val_loss: 0.1854 - val_accuracy: 0.9118\n",
            "Epoch 18: early stopping\n"
          ]
        }
      ]
    },
    {
      "cell_type": "code",
      "source": [
        "score = model.evaluate(X_test_std, y_test, verbose=0)\n",
        "print('Test loss:', score[0])\n",
        "print('Test accuracy:', score[1])\n",
        "\n",
        "plt.plot(history.history['loss'], label=\"train-loss\")\n",
        "plt.plot(history.history['val_loss'], label=\"val-loss\")\n",
        "plt.legend()\n",
        "plt.show()"
      ],
      "metadata": {
        "colab": {
          "base_uri": "https://localhost:8080/",
          "height": 465
        },
        "id": "_nex7nCtUmgf",
        "outputId": "156e1772-9d25-4ec9-8c73-bcb55b145035"
      },
      "id": "_nex7nCtUmgf",
      "execution_count": 17,
      "outputs": [
        {
          "output_type": "stream",
          "name": "stdout",
          "text": [
            "Test loss: 0.18901024758815765\n",
            "Test accuracy: 0.9093226790428162\n"
          ]
        },
        {
          "output_type": "display_data",
          "data": {
            "text/plain": [
              "<Figure size 640x480 with 1 Axes>"
            ],
            "image/png": "[encoded data removed]"
          },
          "metadata": {}
        }
      ]
    },
    {
      "cell_type": "markdown",
      "id": "9b565d17",
      "metadata": {
        "id": "9b565d17"
      },
      "source": [
        "Now, Regularize the model using early-stopping and kernel and bias regularizers (L2). Train the model and compare the performance."
      ]
    },
    {
      "cell_type": "code",
      "execution_count": 10,
      "id": "21f3f459",
      "metadata": {
        "id": "21f3f459",
        "colab": {
          "base_uri": "https://localhost:8080/"
        },
        "outputId": "42fe64c2-06f8-4227-bef0-5c1174b1dbd3"
      },
      "outputs": [
        {
          "output_type": "stream",
          "name": "stdout",
          "text": [
            "Epoch 1/100\n",
            "1318/1318 [==============================] - 9s 6ms/step - loss: 0.4281 - accuracy: 0.8825 - val_loss: 0.2667 - val_accuracy: 0.9046\n",
            "Epoch 2/100\n",
            "1318/1318 [==============================] - 9s 7ms/step - loss: 0.2596 - accuracy: 0.9023 - val_loss: 0.2310 - val_accuracy: 0.9082\n",
            "Epoch 3/100\n",
            "1318/1318 [==============================] - 7s 6ms/step - loss: 0.2404 - accuracy: 0.9030 - val_loss: 0.2221 - val_accuracy: 0.9091\n",
            "Epoch 4/100\n",
            "1318/1318 [==============================] - 5s 4ms/step - loss: 0.2308 - accuracy: 0.9039 - val_loss: 0.2162 - val_accuracy: 0.9093\n",
            "Epoch 5/100\n",
            "1318/1318 [==============================] - 3s 2ms/step - loss: 0.2271 - accuracy: 0.9041 - val_loss: 0.2134 - val_accuracy: 0.9115\n",
            "Epoch 6/100\n",
            "1318/1318 [==============================] - 3s 3ms/step - loss: 0.2255 - accuracy: 0.9042 - val_loss: 0.2106 - val_accuracy: 0.9109\n",
            "Epoch 7/100\n",
            "1318/1318 [==============================] - 4s 3ms/step - loss: 0.2234 - accuracy: 0.9044 - val_loss: 0.2102 - val_accuracy: 0.9076\n",
            "Epoch 8/100\n",
            "1318/1318 [==============================] - 3s 3ms/step - loss: 0.2223 - accuracy: 0.9035 - val_loss: 0.2083 - val_accuracy: 0.9111\n",
            "Epoch 9/100\n",
            "1318/1318 [==============================] - 3s 2ms/step - loss: 0.2195 - accuracy: 0.9065 - val_loss: 0.2169 - val_accuracy: 0.9041\n",
            "Epoch 10/100\n",
            "1318/1318 [==============================] - 4s 3ms/step - loss: 0.2190 - accuracy: 0.9055 - val_loss: 0.2049 - val_accuracy: 0.9124\n",
            "Epoch 11/100\n",
            "1318/1318 [==============================] - 4s 3ms/step - loss: 0.2182 - accuracy: 0.9052 - val_loss: 0.2075 - val_accuracy: 0.9097\n",
            "Epoch 12/100\n",
            "1318/1318 [==============================] - 3s 2ms/step - loss: 0.2182 - accuracy: 0.9052 - val_loss: 0.2056 - val_accuracy: 0.9099\n",
            "Epoch 12: early stopping\n"
          ]
        }
      ],
      "source": [
        "# CODE HERE\n",
        "from keras import regularizers\n",
        "\n",
        "batch_size = 20\n",
        "epochs = 100\n",
        "\n",
        "model = Sequential()\n",
        "model.add(Dense(10, input_dim=X_train_std.shape[1], activation='relu', kernel_regularizer=regularizers.l2(0.01), bias_regularizer=regularizers.l2(0.01)))\n",
        "model.add(Dropout(0.2))\n",
        "model.add(Dense(8, activation='relu', kernel_regularizer=regularizers.l2(0.01), bias_regularizer=regularizers.l2(0.01)))\n",
        "model.add(Dropout(0.2))\n",
        "model.add(Dense(1, activation='sigmoid'))\n",
        "\n",
        "model.compile(loss='binary_crossentropy', optimizer='adam', metrics=['accuracy'])\n",
        "\n",
        "es = EarlyStopping(monitor='val_loss', mode='min', verbose=1, patience=2)\n",
        "history = model.fit(X_train_std, y_train, batch_size=batch_size, epochs=epochs, validation_split=0.2, callbacks=[es])\n"
      ]
    },
    {
      "cell_type": "code",
      "source": [
        "score = model.evaluate(X_test_std, y_test, verbose=0)\n",
        "print('Test loss:', score[0])\n",
        "print('Test accuracy:', score[1])"
      ],
      "metadata": {
        "colab": {
          "base_uri": "https://localhost:8080/"
        },
        "id": "k__ZMrAFlQaJ",
        "outputId": "72d13466-dd07-4465-eb28-412955807393"
      },
      "id": "k__ZMrAFlQaJ",
      "execution_count": 11,
      "outputs": [
        {
          "output_type": "stream",
          "name": "stdout",
          "text": [
            "Test loss: 0.21138979494571686\n",
            "Test accuracy: 0.9077445864677429\n"
          ]
        }
      ]
    },
    {
      "cell_type": "markdown",
      "id": "0a88cdb3",
      "metadata": {
        "id": "0a88cdb3"
      },
      "source": [
        "### Batch Normalization\n",
        "Batch normalization standardize the inputs to a layer in a deep learning neural network. It helps accelerating the training process and might even improve the performance of the model via a regularization effect. \n",
        "Add Batch Normalizations to the original network and train the model and compare the performance."
      ]
    },
    {
      "cell_type": "code",
      "execution_count": 12,
      "id": "e8f0a22a",
      "metadata": {
        "id": "e8f0a22a",
        "colab": {
          "base_uri": "https://localhost:8080/"
        },
        "outputId": "a3e731f6-2ac5-4434-9bbe-3411e97e2440"
      },
      "outputs": [
        {
          "output_type": "stream",
          "name": "stdout",
          "text": [
            "Epoch 1/100\n",
            "1648/1648 [==============================] - 8s 3ms/step - loss: 0.3161 - accuracy: 0.8693 - val_loss: 0.2290 - val_accuracy: 0.9056\n",
            "Epoch 2/100\n",
            "1648/1648 [==============================] - 5s 3ms/step - loss: 0.2189 - accuracy: 0.9037 - val_loss: 0.2123 - val_accuracy: 0.9081\n",
            "Epoch 3/100\n",
            "1648/1648 [==============================] - 6s 4ms/step - loss: 0.2124 - accuracy: 0.9031 - val_loss: 0.2057 - val_accuracy: 0.9063\n",
            "Epoch 4/100\n",
            "1648/1648 [==============================] - 5s 3ms/step - loss: 0.2040 - accuracy: 0.9052 - val_loss: 0.2014 - val_accuracy: 0.9058\n",
            "Epoch 5/100\n",
            "1648/1648 [==============================] - 6s 4ms/step - loss: 0.2007 - accuracy: 0.9043 - val_loss: 0.1997 - val_accuracy: 0.9076\n",
            "Epoch 6/100\n",
            "1648/1648 [==============================] - 5s 3ms/step - loss: 0.1983 - accuracy: 0.9061 - val_loss: 0.1986 - val_accuracy: 0.9059\n",
            "Epoch 7/100\n",
            "1648/1648 [==============================] - 7s 4ms/step - loss: 0.1963 - accuracy: 0.9070 - val_loss: 0.1979 - val_accuracy: 0.9073\n",
            "Epoch 8/100\n",
            "1648/1648 [==============================] - 5s 3ms/step - loss: 0.1964 - accuracy: 0.9073 - val_loss: 0.1985 - val_accuracy: 0.9054\n",
            "Epoch 9/100\n",
            "1648/1648 [==============================] - 6s 3ms/step - loss: 0.1954 - accuracy: 0.9069 - val_loss: 0.1944 - val_accuracy: 0.9079\n",
            "Epoch 10/100\n",
            "1648/1648 [==============================] - 5s 3ms/step - loss: 0.1930 - accuracy: 0.9092 - val_loss: 0.1950 - val_accuracy: 0.9052\n",
            "Epoch 11/100\n",
            "1648/1648 [==============================] - 5s 3ms/step - loss: 0.1908 - accuracy: 0.9083 - val_loss: 0.1936 - val_accuracy: 0.9121\n",
            "Epoch 12/100\n",
            "1648/1648 [==============================] - 6s 4ms/step - loss: 0.1908 - accuracy: 0.9084 - val_loss: 0.1922 - val_accuracy: 0.9069\n",
            "Epoch 13/100\n",
            "1648/1648 [==============================] - 5s 3ms/step - loss: 0.1899 - accuracy: 0.9116 - val_loss: 0.1910 - val_accuracy: 0.9105\n",
            "Epoch 14/100\n",
            "1648/1648 [==============================] - 6s 4ms/step - loss: 0.1905 - accuracy: 0.9086 - val_loss: 0.1932 - val_accuracy: 0.9101\n",
            "Epoch 15/100\n",
            "1648/1648 [==============================] - 6s 4ms/step - loss: 0.1887 - accuracy: 0.9101 - val_loss: 0.1903 - val_accuracy: 0.9121\n",
            "Epoch 16/100\n",
            "1648/1648 [==============================] - 6s 4ms/step - loss: 0.1894 - accuracy: 0.9095 - val_loss: 0.1910 - val_accuracy: 0.9108\n",
            "Epoch 17/100\n",
            "1648/1648 [==============================] - 5s 3ms/step - loss: 0.1889 - accuracy: 0.9107 - val_loss: 0.1903 - val_accuracy: 0.9099\n",
            "Test loss: 0.1903441697359085\n",
            "Test accuracy: 0.9099295735359192\n"
          ]
        }
      ],
      "source": [
        "batch_size = 20\n",
        "epochs = 100\n",
        "\n",
        "model = Sequential()\n",
        "# CODE HERE\n",
        "model.add(Dense(10, activation='relu', input_shape=(X_train_std.shape[1],)))\n",
        "model.add(BatchNormalization())\n",
        "model.add(Dense(8, activation='relu'))\n",
        "model.add(BatchNormalization())\n",
        "model.add(Dense(1, activation='sigmoid'))\n",
        "\n",
        "model.compile(optimizer='adam', loss='binary_crossentropy', metrics=['accuracy'])\n",
        "\n",
        "early_stopping = EarlyStopping(patience=2)\n",
        "model_checkpoint = ModelCheckpoint('model.h5', save_best_only=True)\n",
        "\n",
        "history = model.fit(X_train_std, y_train, \n",
        "                    batch_size=batch_size, \n",
        "                    epochs=epochs, \n",
        "                    validation_data=(X_test_std, y_test), \n",
        "                    callbacks=[early_stopping, model_checkpoint])\n",
        "\n",
        "score = model.evaluate(X_test_std, y_test, verbose=0)\n",
        "print('Test loss:', score[0])\n",
        "print('Test accuracy:', score[1])\n"
      ]
    },
    {
      "cell_type": "markdown",
      "id": "b2c4bc8d",
      "metadata": {
        "id": "b2c4bc8d"
      },
      "source": [
        "## PyTorch\n",
        "Create the same original model that you developed in Keras using PyTorch this time:"
      ]
    },
    {
      "cell_type": "code",
      "execution_count": 13,
      "id": "d6812e74",
      "metadata": {
        "id": "d6812e74"
      },
      "outputs": [],
      "source": [
        "import torch\n",
        "from torch import nn\n",
        "from torch.utils.data import DataLoader\n",
        "from torch.utils.data import random_split\n",
        "from torch.optim import SGD\n",
        "from torch.nn import BCELoss\n",
        "from torch.utils.data import Dataset\n",
        "from torch.utils.data import DataLoader\n",
        "from torch.utils.data import random_split\n",
        "from numpy import vstack\n",
        "from sklearn.metrics import accuracy_score"
      ]
    },
    {
      "cell_type": "code",
      "execution_count": 14,
      "id": "6ebba3d2",
      "metadata": {
        "id": "6ebba3d2"
      },
      "outputs": [],
      "source": [
        "scaler = preprocessing.StandardScaler()\n",
        "X_std = scaler.fit_transform(X)"
      ]
    },
    {
      "cell_type": "code",
      "execution_count": 15,
      "id": "f8bd99fa",
      "metadata": {
        "id": "f8bd99fa"
      },
      "outputs": [],
      "source": [
        "X_tensor = torch.Tensor(X_std.astype('float32'))\n",
        "y_tensor = torch.Tensor(y.astype('float32'))"
      ]
    },
    {
      "cell_type": "code",
      "execution_count": 16,
      "id": "3ca084db",
      "metadata": {
        "id": "3ca084db"
      },
      "outputs": [],
      "source": [
        "class MyDataset(Dataset):\n",
        "    def __init__(self, X,y):\n",
        "        self.X = X\n",
        "        self.y = y\n",
        " \n",
        "    def __len__(self):\n",
        "        return len(self.X)\n",
        " \n",
        "    def __getitem__(self, idx):\n",
        "        return (self.X[idx], self.y[idx])"
      ]
    },
    {
      "cell_type": "code",
      "execution_count": 17,
      "id": "2e54665b",
      "metadata": {
        "id": "2e54665b"
      },
      "outputs": [],
      "source": [
        "test_size = round(0.2 * len(df))\n",
        "train_size = len(df) - test_size     \n",
        "train,test=random_split(MyDataset(X_tensor,y_tensor),[train_size, test_size])"
      ]
    },
    {
      "cell_type": "code",
      "execution_count": 18,
      "id": "7e19f25d",
      "metadata": {
        "id": "7e19f25d"
      },
      "outputs": [],
      "source": [
        "train_dl = DataLoader(train, batch_size=20, shuffle=True)\n",
        "test_dl = DataLoader(test, batch_size=100, shuffle=False)"
      ]
    },
    {
      "cell_type": "code",
      "execution_count": 19,
      "id": "4d512cc8",
      "metadata": {
        "colab": {
          "base_uri": "https://localhost:8080/"
        },
        "id": "4d512cc8",
        "outputId": "00648db2-bd2b-4298-f516-3049f2630470"
      },
      "outputs": [
        {
          "output_type": "execute_result",
          "data": {
            "text/plain": [
              "torch.Size([41188, 53])"
            ]
          },
          "metadata": {},
          "execution_count": 19
        }
      ],
      "source": [
        "X_tensor.shape"
      ]
    },
    {
      "cell_type": "code",
      "execution_count": 20,
      "id": "deed2d0d",
      "metadata": {
        "colab": {
          "base_uri": "https://localhost:8080/"
        },
        "id": "deed2d0d",
        "outputId": "940460ce-8ff3-4c83-9162-4d27796b910a"
      },
      "outputs": [
        {
          "output_type": "execute_result",
          "data": {
            "text/plain": [
              "torch.Size([41188])"
            ]
          },
          "metadata": {},
          "execution_count": 20
        }
      ],
      "source": [
        "y_tensor.shape"
      ]
    },
    {
      "cell_type": "code",
      "execution_count": 21,
      "id": "0a59e9cf",
      "metadata": {
        "colab": {
          "base_uri": "https://localhost:8080/"
        },
        "id": "0a59e9cf",
        "outputId": "e80dbbe7-1a47-44c5-a1a1-ef5ff97ca789"
      },
      "outputs": [
        {
          "output_type": "execute_result",
          "data": {
            "text/plain": [
              "32950"
            ]
          },
          "metadata": {},
          "execution_count": 21
        }
      ],
      "source": [
        "len(train)"
      ]
    },
    {
      "cell_type": "code",
      "execution_count": 22,
      "id": "c90254f4",
      "metadata": {
        "id": "c90254f4"
      },
      "outputs": [],
      "source": [
        "class bank_marketing_MLP(nn.Module): \n",
        "\n",
        "   def __init__(self): \n",
        "       super(bank_marketing_MLP, self).__init__()\n",
        "       \n",
        "       # Define the layers\n",
        "       self.fc1 = nn.Linear(53, 10)\n",
        "       self.fc2 = nn.Linear(10, 8)\n",
        "       self.out = nn.Linear(8, 1)\n",
        "\n",
        "       # Define activation function\n",
        "       self.relu = nn.ReLU()\n",
        "       self.sigmoid = nn.Sigmoid()\n",
        "\n",
        "   def forward(self, x): \n",
        "       # Define forward pass\n",
        "       x = self.fc1(x)\n",
        "       x = self.relu(x)\n",
        "       x = self.fc2(x)\n",
        "       x = self.relu(x)\n",
        "       x = self.out(x)\n",
        "       x = self.sigmoid(x)\n",
        "       return x\n"
      ]
    },
    {
      "cell_type": "code",
      "execution_count": 23,
      "id": "22887f1a",
      "metadata": {
        "id": "22887f1a"
      },
      "outputs": [],
      "source": [
        "def train_model(train_dl, model):\n",
        "    # define the optimization and loss\n",
        "    criterion = BCELoss()\n",
        "    optimizer = SGD(model.parameters(), lr=0.01, momentum=0.9)\n",
        "\n",
        "    for epoch in range(15):\n",
        "        # enumerate mini batches\n",
        "        for i, (inputs, targets) in enumerate(train_dl):\n",
        "            # clear the gradients\n",
        "            optimizer.zero_grad()\n",
        "            \n",
        "            # compute the model predictions\n",
        "            outputs = model(inputs)\n",
        "            \n",
        "            # calculate the loss\n",
        "            # had to add unsqueeze otherwise getting error in training model\n",
        "            loss = criterion(outputs, targets.unsqueeze(1))\n",
        "            \n",
        "            # credit assignment\n",
        "            loss.backward()\n",
        "            \n",
        "            # update model weights\n",
        "            optimizer.step()\n",
        "        print(f'epoch {epoch} loss{loss}')\n"
      ]
    },
    {
      "cell_type": "code",
      "execution_count": 24,
      "id": "3aeccbb7",
      "metadata": {
        "id": "3aeccbb7",
        "colab": {
          "base_uri": "https://localhost:8080/"
        },
        "outputId": "dc46326f-4feb-4d49-f7fc-830e148dada4"
      },
      "outputs": [
        {
          "output_type": "stream",
          "name": "stdout",
          "text": [
            "epoch 0 loss0.10167662799358368\n",
            "epoch 1 loss0.0674666166305542\n",
            "epoch 2 loss0.03300010412931442\n",
            "epoch 3 loss0.008244872093200684\n",
            "epoch 4 loss0.03690536692738533\n",
            "epoch 5 loss0.28023478388786316\n",
            "epoch 6 loss0.1788226217031479\n",
            "epoch 7 loss0.1350419819355011\n",
            "epoch 8 loss0.14349910616874695\n",
            "epoch 9 loss0.10878647863864899\n",
            "epoch 10 loss0.22907784581184387\n",
            "epoch 11 loss0.09164656698703766\n",
            "epoch 12 loss0.23936128616333008\n",
            "epoch 13 loss0.11891581863164902\n",
            "epoch 14 loss0.12473944574594498\n"
          ]
        }
      ],
      "source": [
        "model = bank_marketing_MLP()\n",
        "train_model(train_dl, model)"
      ]
    },
    {
      "cell_type": "code",
      "execution_count": 25,
      "id": "f9dca445",
      "metadata": {
        "id": "f9dca445"
      },
      "outputs": [],
      "source": [
        "def evaluate_model(test_dl, model):\n",
        "    predictions, actuals = list(), list()\n",
        "    for i, (inputs, targets) in enumerate(test_dl):\n",
        "        yhat = model(inputs)\n",
        "        yhat = yhat.detach().numpy()\n",
        "        actual = targets.numpy()\n",
        "        actual = actual.reshape((len(actual), 1))\n",
        "        # round to class values\n",
        "        yhat = yhat.round()\n",
        "        predictions.append(yhat)\n",
        "        actuals.append(actual)\n",
        "    predictions, actuals = vstack(predictions), vstack(actuals)\n",
        "    # calculate accuracy\n",
        "    acc = accuracy_score(actuals, predictions)\n",
        "    return acc"
      ]
    },
    {
      "cell_type": "code",
      "execution_count": 26,
      "id": "b37e3db3",
      "metadata": {
        "id": "b37e3db3",
        "colab": {
          "base_uri": "https://localhost:8080/"
        },
        "outputId": "7b770f3e-5e38-4563-a84c-322d058e6846"
      },
      "outputs": [
        {
          "output_type": "stream",
          "name": "stdout",
          "text": [
            "Accuracy: 0.911\n"
          ]
        }
      ],
      "source": [
        "acc = evaluate_model(test_dl, model)\n",
        "print('Accuracy: %.3f' % acc)\n"
      ]
    },
    {
      "cell_type": "code",
      "execution_count": 28,
      "id": "5eec2488",
      "metadata": {
        "id": "5eec2488"
      },
      "outputs": [],
      "source": [
        "def predict(row, model):\n",
        "    row = Tensor([row])\n",
        "    yhat = model(row)\n",
        "    yhat = yhat.detach().numpy()\n",
        "    return yhat"
      ]
    },
    {
      "cell_type": "markdown",
      "id": "b5095543",
      "metadata": {
        "id": "b5095543"
      },
      "source": [
        "## Hyper Parameter Tunning (optional bonus points)\n",
        "\n",
        "Find the optimal parameter for the following range of values:\n",
        "- Number of units at hidden layers=[10,8,6,1], [20,16,12,1],[40,32,24,1]\n",
        "- Number of hidden layers=[1,2,3]\n",
        "- Batch size=[20,50,100]\n",
        "- with/without Batch normalization\n",
        "- Activation functions=[Relu,tanh,sigmoid, softplus]\n",
        "- optimizers=[SGD,RMSprop,Adam]\n",
        "- Learning rate=[0.01,0.05,0.1]\n",
        "- With or without ExponentialDecay learning rate scheduler\n",
        "\n",
        "What is the validation accuracy of the optimal model?"
      ]
    },
    {
      "cell_type": "markdown",
      "id": "08bc7637",
      "metadata": {
        "id": "08bc7637"
      },
      "source": [
        "# Francis: Will do this after I get back to the U.S."
      ]
    }
  ],
  "metadata": {
    "kernelspec": {
      "display_name": "Python 3 (ipykernel)",
      "language": "python",
      "name": "python3"
    },
    "language_info": {
      "codemirror_mode": {
        "name": "ipython",
        "version": 3
      },
      "file_extension": ".py",
      "mimetype": "text/x-python",
      "name": "python",
      "nbconvert_exporter": "python",
      "pygments_lexer": "ipython3",
      "version": "3.9.12"
    },
    "colab": {
      "provenance": []
    }
  },
  "nbformat": 4,
  "nbformat_minor": 5
}