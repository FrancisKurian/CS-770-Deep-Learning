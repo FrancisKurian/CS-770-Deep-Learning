{
  "cells": [
    {
      "cell_type": "code",
      "source": [
        "from google.colab import drive\n",
        "drive.mount('/content/drive')"
      ],
      "metadata": {
        "colab": {
          "base_uri": "https://localhost:8080/"
        },
        "id": "fXC1zgU6rcgg",
        "outputId": "7c446095-870f-4375-cedf-9b68a060d5a4"
      },
      "execution_count": 13,
      "outputs": [
        {
          "output_type": "stream",
          "name": "stdout",
          "text": [
            "Mounted at /content/drive\n"
          ]
        }
      ]
    },
    {
      "cell_type": "markdown",
      "metadata": {
        "id": "vJG-MtdjpLTO"
      },
      "source": [
        "# Assignment 4: Transfer Learning\n",
        "\n",
        "#### Student Name: Francis Kurian\n",
        "\n",
        "In this assignment,  you will use a pretrained model such as VGG16 to perform a new classification task. We will use The dataset (https://www.kaggle.com/c/aptos2019-blindness-detection) consisted of 3,662 labeled, high resolution color images for the training set, and 1,928 unlabeled for the test set. \n",
        "Images are classified into 5 groups according to the severity of DR present. Label 0 represents the control group. Labels 1–4 represent mild, moderate, severe, and proliferative DR, respectively.\n"
      ]
    },
    {
      "cell_type": "code",
      "execution_count": 14,
      "metadata": {
        "id": "sC32BcSJkmPE"
      },
      "outputs": [],
      "source": [
        "import numpy as np \n",
        "import pandas as pd \n",
        "import matplotlib.pyplot as plt\n",
        "from keras.models import Sequential\n",
        "from keras.layers import Dense\n",
        "from keras.layers import Dropout, GaussianNoise, GaussianDropout\n",
        "from keras.layers import Flatten, BatchNormalization\n",
        "from keras.layers.convolutional import Conv2D, SeparableConv2D\n",
        "from keras.constraints import maxnorm\n",
        "from keras.layers.convolutional import MaxPooling2D\n",
        "from keras.utils import np_utils\n",
        "from keras import backend as K\n",
        "from keras import regularizers, optimizers\n",
        "from keras.callbacks import EarlyStopping, ModelCheckpoint\n",
        "from keras.applications import vgg16\n",
        "from keras.models import Model"
      ]
    },
    {
      "cell_type": "markdown",
      "metadata": {
        "id": "t5vBrnwNqRCq"
      },
      "source": [
        "## Load the data"
      ]
    },
    {
      "cell_type": "code",
      "execution_count": 15,
      "metadata": {
        "id": "iph5-J6Gn8Eu",
        "colab": {
          "base_uri": "https://localhost:8080/",
          "height": 206
        },
        "outputId": "7ffa5c49-e04f-4f9e-e0b0-de2892f8ae03"
      },
      "outputs": [
        {
          "output_type": "execute_result",
          "data": {
            "text/plain": [
              "        id_code  diagnosis\n",
              "0  000c1434d8d7          2\n",
              "1  001639a390f0          4\n",
              "2  0024cdab0c1e          1\n",
              "3  002c21358ce6          0\n",
              "4  005b95c28852          0"
            ],
            "text/html": [
              "\n",
              "  <div id=\"df-de26e0a1-3786-4128-a2a6-20edb91ccaad\">\n",
              "    <div class=\"colab-df-container\">\n",
              "      <div>\n",
              "<style scoped>\n",
              "    .dataframe tbody tr th:only-of-type {\n",
              "        vertical-align: middle;\n",
              "    }\n",
              "\n",
              "    .dataframe tbody tr th {\n",
              "        vertical-align: top;\n",
              "    }\n",
              "\n",
              "    .dataframe thead th {\n",
              "        text-align: right;\n",
              "    }\n",
              "</style>\n",
              "<table border=\"1\" class=\"dataframe\">\n",
              "  <thead>\n",
              "    <tr style=\"text-align: right;\">\n",
              "      <th></th>\n",
              "      <th>id_code</th>\n",
              "      <th>diagnosis</th>\n",
              "    </tr>\n",
              "  </thead>\n",
              "  <tbody>\n",
              "    <tr>\n",
              "      <th>0</th>\n",
              "      <td>000c1434d8d7</td>\n",
              "      <td>2</td>\n",
              "    </tr>\n",
              "    <tr>\n",
              "      <th>1</th>\n",
              "      <td>001639a390f0</td>\n",
              "      <td>4</td>\n",
              "    </tr>\n",
              "    <tr>\n",
              "      <th>2</th>\n",
              "      <td>0024cdab0c1e</td>\n",
              "      <td>1</td>\n",
              "    </tr>\n",
              "    <tr>\n",
              "      <th>3</th>\n",
              "      <td>002c21358ce6</td>\n",
              "      <td>0</td>\n",
              "    </tr>\n",
              "    <tr>\n",
              "      <th>4</th>\n",
              "      <td>005b95c28852</td>\n",
              "      <td>0</td>\n",
              "    </tr>\n",
              "  </tbody>\n",
              "</table>\n",
              "</div>\n",
              "      <button class=\"colab-df-convert\" onclick=\"convertToInteractive('df-de26e0a1-3786-4128-a2a6-20edb91ccaad')\"\n",
              "              title=\"Convert this dataframe to an interactive table.\"\n",
              "              style=\"display:none;\">\n",
              "        \n",
              "  <svg xmlns=\"http://www.w3.org/2000/svg\" height=\"24px\"viewBox=\"0 0 24 24\"\n",
              "       width=\"24px\">\n",
              "    <path d=\"M0 0h24v24H0V0z\" fill=\"none\"/>\n",
              "    <path d=\"M18.56 5.44l.94 2.06.94-2.06 2.06-.94-2.06-.94-.94-2.06-.94 2.06-2.06.94zm-11 1L8.5 8.5l.94-2.06 2.06-.94-2.06-.94L8.5 2.5l-.94 2.06-2.06.94zm10 10l.94 2.06.94-2.06 2.06-.94-2.06-.94-.94-2.06-.94 2.06-2.06.94z\"/><path d=\"M17.41 7.96l-1.37-1.37c-.4-.4-.92-.59-1.43-.59-.52 0-1.04.2-1.43.59L10.3 9.45l-7.72 7.72c-.78.78-.78 2.05 0 2.83L4 21.41c.39.39.9.59 1.41.59.51 0 1.02-.2 1.41-.59l7.78-7.78 2.81-2.81c.8-.78.8-2.07 0-2.86zM5.41 20L4 18.59l7.72-7.72 1.47 1.35L5.41 20z\"/>\n",
              "  </svg>\n",
              "      </button>\n",
              "      \n",
              "  <style>\n",
              "    .colab-df-container {\n",
              "      display:flex;\n",
              "      flex-wrap:wrap;\n",
              "      gap: 12px;\n",
              "    }\n",
              "\n",
              "    .colab-df-convert {\n",
              "      background-color: #E8F0FE;\n",
              "      border: none;\n",
              "      border-radius: 50%;\n",
              "      cursor: pointer;\n",
              "      display: none;\n",
              "      fill: #1967D2;\n",
              "      height: 32px;\n",
              "      padding: 0 0 0 0;\n",
              "      width: 32px;\n",
              "    }\n",
              "\n",
              "    .colab-df-convert:hover {\n",
              "      background-color: #E2EBFA;\n",
              "      box-shadow: 0px 1px 2px rgba(60, 64, 67, 0.3), 0px 1px 3px 1px rgba(60, 64, 67, 0.15);\n",
              "      fill: #174EA6;\n",
              "    }\n",
              "\n",
              "    [theme=dark] .colab-df-convert {\n",
              "      background-color: #3B4455;\n",
              "      fill: #D2E3FC;\n",
              "    }\n",
              "\n",
              "    [theme=dark] .colab-df-convert:hover {\n",
              "      background-color: #434B5C;\n",
              "      box-shadow: 0px 1px 3px 1px rgba(0, 0, 0, 0.15);\n",
              "      filter: drop-shadow(0px 1px 2px rgba(0, 0, 0, 0.3));\n",
              "      fill: #FFFFFF;\n",
              "    }\n",
              "  </style>\n",
              "\n",
              "      <script>\n",
              "        const buttonEl =\n",
              "          document.querySelector('#df-de26e0a1-3786-4128-a2a6-20edb91ccaad button.colab-df-convert');\n",
              "        buttonEl.style.display =\n",
              "          google.colab.kernel.accessAllowed ? 'block' : 'none';\n",
              "\n",
              "        async function convertToInteractive(key) {\n",
              "          const element = document.querySelector('#df-de26e0a1-3786-4128-a2a6-20edb91ccaad');\n",
              "          const dataTable =\n",
              "            await google.colab.kernel.invokeFunction('convertToInteractive',\n",
              "                                                     [key], {});\n",
              "          if (!dataTable) return;\n",
              "\n",
              "          const docLinkHtml = 'Like what you see? Visit the ' +\n",
              "            '<a target=\"_blank\" href=https://colab.research.google.com/notebooks/data_table.ipynb>data table notebook</a>'\n",
              "            + ' to learn more about interactive tables.';\n",
              "          element.innerHTML = '';\n",
              "          dataTable['output_type'] = 'display_data';\n",
              "          await google.colab.output.renderOutput(dataTable, element);\n",
              "          const docLink = document.createElement('div');\n",
              "          docLink.innerHTML = docLinkHtml;\n",
              "          element.appendChild(docLink);\n",
              "        }\n",
              "      </script>\n",
              "    </div>\n",
              "  </div>\n",
              "  "
            ]
          },
          "metadata": {},
          "execution_count": 15
        }
      ],
      "source": [
        "data_path=\"/content/drive/MyDrive/atops-sample\"\n",
        "df = pd.read_csv(data_path+\"/train.csv\")\n",
        "df.head()"
      ]
    },
    {
      "cell_type": "code",
      "source": [
        "df['diagnosis'].hist()\n",
        "df['diagnosis'].value_counts()"
      ],
      "metadata": {
        "colab": {
          "base_uri": "https://localhost:8080/",
          "height": 534
        },
        "id": "0332CKUgdWfI",
        "outputId": "e6d7f1c1-de30-4aa8-bf2c-9935bd5df235"
      },
      "execution_count": 16,
      "outputs": [
        {
          "output_type": "execute_result",
          "data": {
            "text/plain": [
              "0    1805\n",
              "2     999\n",
              "1     370\n",
              "4     295\n",
              "3     193\n",
              "Name: diagnosis, dtype: int64"
            ]
          },
          "metadata": {},
          "execution_count": 16
        },
        {
          "output_type": "display_data",
          "data": {
            "text/plain": [
              "<Figure size 640x480 with 1 Axes>"
            ],
            "image/png": "[encoded data removed]"
          },
          "metadata": {}
        }
      ]
    },
    {
      "cell_type": "code",
      "execution_count": 17,
      "metadata": {
        "id": "fb23xXLfkmPG"
      },
      "outputs": [],
      "source": [
        "df['id_code'] = df['id_code'].astype(str)+'.png'\n",
        "df['diagnosis'] = df['diagnosis'].astype('str')"
      ]
    },
    {
      "cell_type": "markdown",
      "metadata": {
        "id": "eR4csuEikmPH"
      },
      "source": [
        "#### Create a data generator"
      ]
    },
    {
      "cell_type": "code",
      "execution_count": 18,
      "metadata": {
        "colab": {
          "base_uri": "https://localhost:8080/"
        },
        "id": "2UTKnwcNkmPH",
        "outputId": "d4b5cce8-f087-4b12-cbeb-4bee9c83c38c"
      },
      "outputs": [
        {
          "output_type": "stream",
          "name": "stdout",
          "text": [
            "Found 240 validated image filenames belonging to 5 classes.\n"
          ]
        },
        {
          "output_type": "stream",
          "name": "stderr",
          "text": [
            "/usr/local/lib/python3.10/dist-packages/keras/preprocessing/image.py:1137: UserWarning: Found 3362 invalid image filename(s) in x_col=\"id_code\". These filename(s) will be ignored.\n",
            "  warnings.warn(\n"
          ]
        },
        {
          "output_type": "stream",
          "name": "stdout",
          "text": [
            "Found 60 validated image filenames belonging to 5 classes.\n"
          ]
        },
        {
          "output_type": "stream",
          "name": "stderr",
          "text": [
            "/usr/local/lib/python3.10/dist-packages/keras/preprocessing/image.py:1137: UserWarning: Found 3362 invalid image filename(s) in x_col=\"id_code\". These filename(s) will be ignored.\n",
            "  warnings.warn(\n"
          ]
        }
      ],
      "source": [
        "from keras.preprocessing.image import ImageDataGenerator\n",
        "BATCH_SIZE = 16\n",
        "IMAGE_SIZE = (224,224)\n",
        "\n",
        "datagen=ImageDataGenerator(\n",
        "    rescale=1./255, \n",
        "    validation_split=0.2,\n",
        "    shear_range=0.2,\n",
        "    zoom_range=0.2,\n",
        "    horizontal_flip=True)\n",
        "\n",
        "train_gen=datagen.flow_from_dataframe(\n",
        "    dataframe=df,\n",
        "    directory=data_path+\"/train_images_sample\",\n",
        "    x_col=\"id_code\",\n",
        "    y_col=\"diagnosis\",\n",
        "    batch_size=BATCH_SIZE,\n",
        "    shuffle=True,\n",
        "    class_mode=\"categorical\",\n",
        "    target_size=IMAGE_SIZE,\n",
        "    subset='training')\n",
        "\n",
        "test_gen=datagen.flow_from_dataframe(\n",
        "    dataframe=df,\n",
        "    directory=data_path+\"/train_images_sample\",\n",
        "    x_col=\"id_code\",\n",
        "    y_col=\"diagnosis\",\n",
        "    batch_size=BATCH_SIZE,\n",
        "    shuffle=True,\n",
        "    class_mode=\"categorical\", \n",
        "    target_size=IMAGE_SIZE,\n",
        "    subset='validation')"
      ]
    },
    {
      "cell_type": "markdown",
      "metadata": {
        "id": "EauOxur9kmPH"
      },
      "source": [
        "## Define the Model"
      ]
    },
    {
      "cell_type": "markdown",
      "metadata": {
        "id": "n6NjVwfIrfEc"
      },
      "source": [
        "#### Load the VGG16 Model "
      ]
    },
    {
      "cell_type": "code",
      "execution_count": 34,
      "metadata": {
        "id": "gJCxq49TkmPI"
      },
      "outputs": [],
      "source": [
        "base_model = vgg16.VGG16(weights='imagenet', include_top=False, input_shape=(224, 224, 3))"
      ]
    },
    {
      "cell_type": "code",
      "source": [
        "base_model.summary()"
      ],
      "metadata": {
        "colab": {
          "base_uri": "https://localhost:8080/"
        },
        "id": "U6q36XoYazV1",
        "outputId": "f69288e8-c1aa-42f9-8525-bd3cf2cd734a"
      },
      "execution_count": 28,
      "outputs": [
        {
          "output_type": "stream",
          "name": "stdout",
          "text": [
            "Model: \"vgg16\"\n",
            "_________________________________________________________________\n",
            " Layer (type)                Output Shape              Param #   \n",
            "=================================================================\n",
            " input_3 (InputLayer)        [(None, 224, 224, 3)]     0         \n",
            "                                                                 \n",
            " block1_conv1 (Conv2D)       (None, 224, 224, 64)      1792      \n",
            "                                                                 \n",
            " block1_conv2 (Conv2D)       (None, 224, 224, 64)      36928     \n",
            "                                                                 \n",
            " block1_pool (MaxPooling2D)  (None, 112, 112, 64)      0         \n",
            "                                                                 \n",
            " block2_conv1 (Conv2D)       (None, 112, 112, 128)     73856     \n",
            "                                                                 \n",
            " block2_conv2 (Conv2D)       (None, 112, 112, 128)     147584    \n",
            "                                                                 \n",
            " block2_pool (MaxPooling2D)  (None, 56, 56, 128)       0         \n",
            "                                                                 \n",
            " block3_conv1 (Conv2D)       (None, 56, 56, 256)       295168    \n",
            "                                                                 \n",
            " block3_conv2 (Conv2D)       (None, 56, 56, 256)       590080    \n",
            "                                                                 \n",
            " block3_conv3 (Conv2D)       (None, 56, 56, 256)       590080    \n",
            "                                                                 \n",
            " block3_pool (MaxPooling2D)  (None, 28, 28, 256)       0         \n",
            "                                                                 \n",
            " block4_conv1 (Conv2D)       (None, 28, 28, 512)       1180160   \n",
            "                                                                 \n",
            " block4_conv2 (Conv2D)       (None, 28, 28, 512)       2359808   \n",
            "                                                                 \n",
            " block4_conv3 (Conv2D)       (None, 28, 28, 512)       2359808   \n",
            "                                                                 \n",
            " block4_pool (MaxPooling2D)  (None, 14, 14, 512)       0         \n",
            "                                                                 \n",
            " block5_conv1 (Conv2D)       (None, 14, 14, 512)       2359808   \n",
            "                                                                 \n",
            " block5_conv2 (Conv2D)       (None, 14, 14, 512)       2359808   \n",
            "                                                                 \n",
            " block5_conv3 (Conv2D)       (None, 14, 14, 512)       2359808   \n",
            "                                                                 \n",
            " block5_pool (MaxPooling2D)  (None, 7, 7, 512)         0         \n",
            "                                                                 \n",
            "=================================================================\n",
            "Total params: 14,714,688\n",
            "Trainable params: 14,714,688\n",
            "Non-trainable params: 0\n",
            "_________________________________________________________________\n"
          ]
        }
      ]
    },
    {
      "cell_type": "markdown",
      "metadata": {
        "id": "YA3DAdvckmPJ"
      },
      "source": [
        "#### Freeze the vgg16 layers"
      ]
    },
    {
      "cell_type": "code",
      "source": [
        "# Freeze the layers of the base model\n",
        "for layer in base_model.layers:\n",
        "    layer.trainable = False"
      ],
      "metadata": {
        "id": "ChdgU4URNUBa"
      },
      "execution_count": 35,
      "outputs": []
    },
    {
      "cell_type": "markdown",
      "metadata": {
        "id": "bHEaqKZkkmPI"
      },
      "source": [
        "#### Add your own Layers"
      ]
    },
    {
      "cell_type": "markdown",
      "metadata": {
        "id": "UEvxyF0nkmPI"
      },
      "source": [
        "Use up to the the block4_pool layer of the vgg16 model and add 2 Fully Connected layers of your own at the end:"
      ]
    },
    {
      "cell_type": "code",
      "execution_count": 53,
      "metadata": {
        "id": "TSajdB3NkmPI"
      },
      "outputs": [],
      "source": [
        "# Use up to the the block4_pool layer of the vgg16 model and add 2 Fully Connected layers of your own at the end:\n",
        "# Get the output of the block4_pool layer\n",
        "block4_pool_output = base_model.get_layer('block4_pool').output\n",
        "\n",
        "# Add your own fully connected layers\n",
        "x = Dense(512, activation='relu')(block4_pool_output)\n",
        "x = Flatten()(x)\n",
        "# x = Dense(256, activation='relu')(x)\n",
        "x = Dropout(0.5)(x)\n",
        "x = Dense(128, activation='relu')(x)\n",
        "x = Dropout(0.5)(x)\n",
        "predictions = Dense(5, activation='softmax')(x)\n",
        "\n",
        "model = Model(inputs=base_model.input, outputs=predictions)"
      ]
    },
    {
      "cell_type": "markdown",
      "metadata": {
        "id": "TM3loAACkmPJ"
      },
      "source": [
        "## Train the  Model\n"
      ]
    },
    {
      "cell_type": "code",
      "execution_count": 54,
      "metadata": {
        "id": "X9KIw4F4kmPJ"
      },
      "outputs": [],
      "source": [
        "callback = []\n",
        "callback += [ModelCheckpoint('atops.h5',save_best_only=True,mode='min')]\n",
        "model.compile(optimizer='adam', loss='categorical_crossentropy',metrics=['accuracy'])"
      ]
    },
    {
      "cell_type": "code",
      "source": [
        "early_stop = EarlyStopping(monitor='val_loss', patience=3, verbose=1, mode='min')\n",
        "from keras.callbacks import ModelCheckpoint\n",
        "model_checkpoint = ModelCheckpoint('best_weights.h5', save_best_only=True, save_weights_only=True, monitor='val_loss', mode='min', verbose=1)"
      ],
      "metadata": {
        "id": "MVuDS2TpMOB1"
      },
      "execution_count": 55,
      "outputs": []
    },
    {
      "cell_type": "code",
      "execution_count": 56,
      "metadata": {
        "id": "viWQ-kSqkmPJ",
        "colab": {
          "base_uri": "https://localhost:8080/"
        },
        "outputId": "435ebdbd-06fd-4909-8048-f00840d147f4"
      },
      "outputs": [
        {
          "output_type": "stream",
          "name": "stderr",
          "text": [
            "<ipython-input-56-efc37055608b>:1: UserWarning: `Model.fit_generator` is deprecated and will be removed in a future version. Please use `Model.fit`, which supports generators.\n",
            "  model.fit_generator(generator=train_gen,\n"
          ]
        },
        {
          "output_type": "stream",
          "name": "stdout",
          "text": [
            "Epoch 1/10\n",
            "15/15 [==============================] - ETA: 0s - loss: 17.4626 - accuracy: 0.4500 \n",
            "Epoch 1: val_loss improved from inf to 1.02356, saving model to best_weights.h5\n",
            "15/15 [==============================] - 203s 13s/step - loss: 17.4626 - accuracy: 0.4500 - val_loss: 1.0236 - val_accuracy: 0.6167\n",
            "Epoch 2/10\n",
            "15/15 [==============================] - ETA: 0s - loss: 1.6685 - accuracy: 0.4875 \n",
            "Epoch 2: val_loss did not improve from 1.02356\n",
            "15/15 [==============================] - 192s 13s/step - loss: 1.6685 - accuracy: 0.4875 - val_loss: 1.0958 - val_accuracy: 0.6667\n",
            "Epoch 3/10\n",
            "15/15 [==============================] - ETA: 0s - loss: 1.0420 - accuracy: 0.6583 \n",
            "Epoch 3: val_loss improved from 1.02356 to 0.87114, saving model to best_weights.h5\n",
            "15/15 [==============================] - 201s 14s/step - loss: 1.0420 - accuracy: 0.6583 - val_loss: 0.8711 - val_accuracy: 0.6833\n",
            "Epoch 4/10\n",
            "15/15 [==============================] - ETA: 0s - loss: 0.9864 - accuracy: 0.6625 \n",
            "Epoch 4: val_loss improved from 0.87114 to 0.85870, saving model to best_weights.h5\n",
            "15/15 [==============================] - 196s 13s/step - loss: 0.9864 - accuracy: 0.6625 - val_loss: 0.8587 - val_accuracy: 0.6833\n",
            "Epoch 5/10\n",
            "15/15 [==============================] - ETA: 0s - loss: 0.9048 - accuracy: 0.6958 \n",
            "Epoch 5: val_loss improved from 0.85870 to 0.82619, saving model to best_weights.h5\n",
            "15/15 [==============================] - 194s 13s/step - loss: 0.9048 - accuracy: 0.6958 - val_loss: 0.8262 - val_accuracy: 0.7000\n",
            "Epoch 6/10\n",
            "15/15 [==============================] - ETA: 0s - loss: 0.8647 - accuracy: 0.6542 \n",
            "Epoch 6: val_loss improved from 0.82619 to 0.79367, saving model to best_weights.h5\n",
            "15/15 [==============================] - 195s 13s/step - loss: 0.8647 - accuracy: 0.6542 - val_loss: 0.7937 - val_accuracy: 0.7500\n",
            "Epoch 7/10\n",
            "15/15 [==============================] - ETA: 0s - loss: 0.8506 - accuracy: 0.6917 \n",
            "Epoch 7: val_loss did not improve from 0.79367\n",
            "15/15 [==============================] - 195s 13s/step - loss: 0.8506 - accuracy: 0.6917 - val_loss: 0.8936 - val_accuracy: 0.7167\n",
            "Epoch 8/10\n",
            "15/15 [==============================] - ETA: 0s - loss: 0.7258 - accuracy: 0.7250 \n",
            "Epoch 8: val_loss did not improve from 0.79367\n",
            "15/15 [==============================] - 194s 13s/step - loss: 0.7258 - accuracy: 0.7250 - val_loss: 0.8789 - val_accuracy: 0.7167\n",
            "Epoch 9/10\n",
            "15/15 [==============================] - ETA: 0s - loss: 0.7142 - accuracy: 0.7542 \n",
            "Epoch 9: val_loss did not improve from 0.79367\n",
            "15/15 [==============================] - 198s 13s/step - loss: 0.7142 - accuracy: 0.7542 - val_loss: 0.8120 - val_accuracy: 0.7500\n",
            "Epoch 9: early stopping\n"
          ]
        },
        {
          "output_type": "execute_result",
          "data": {
            "text/plain": [
              "<keras.callbacks.History at 0x7f54eafae620>"
            ]
          },
          "metadata": {},
          "execution_count": 56
        }
      ],
      "source": [
        "model.fit_generator(generator=train_gen,              \n",
        "                                    steps_per_epoch=len(train_gen),\n",
        "                                    validation_data=test_gen,                    \n",
        "                                    validation_steps=len(test_gen),\n",
        "                                    epochs=10,\n",
        "                                    callbacks = [early_stop, model_checkpoint], \n",
        "                                    use_multiprocessing = False,\n",
        "                                    verbose=1)"
      ]
    }
  ],
  "metadata": {
    "colab": {
      "provenance": []
    },
    "kernelspec": {
      "display_name": "Python 3 (ipykernel)",
      "language": "python",
      "name": "python3"
    },
    "language_info": {
      "codemirror_mode": {
        "name": "ipython",
        "version": 3
      },
      "file_extension": ".py",
      "mimetype": "text/x-python",
      "name": "python",
      "nbconvert_exporter": "python",
      "pygments_lexer": "ipython3",
      "version": "3.9.12"
    }
  },
  "nbformat": 4,
  "nbformat_minor": 0
}