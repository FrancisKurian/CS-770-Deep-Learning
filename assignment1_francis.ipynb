{
  "cells": [
    {
      "cell_type": "markdown",
      "id": "7ef0d9ec",
      "metadata": {
        "id": "7ef0d9ec"
      },
      "source": [
        "# Assignment1: Classification of Sonar dataset With one Hidden Layer\n",
        "\n",
        "In this assignment, you will implement a neural network with one hidden layer from scratch using numpy operations to classify the UCI sonar dataset to Rock or Mine: https://www.kaggle.com/datasets/shrutimehta/nasa-asteroids-classification."
      ]
    },
    {
      "cell_type": "code",
      "execution_count": 1,
      "id": "6b161a59",
      "metadata": {
        "id": "6b161a59"
      },
      "outputs": [],
      "source": [
        "import numpy as np\n",
        "import matplotlib.pyplot as plt\n",
        "import sklearn\n",
        "import sklearn.datasets\n",
        "import sklearn.linear_model\n",
        "import pandas as pd\n",
        "from sklearn.model_selection import train_test_split\n",
        "\n",
        "np.random.seed(10) "
      ]
    },
    {
      "cell_type": "markdown",
      "id": "75b54a0b",
      "metadata": {
        "id": "75b54a0b"
      },
      "source": [
        "## Load  and Prepare Dataset"
      ]
    },
    {
      "cell_type": "code",
      "source": [
        "from google.colab import files\n",
        "uploaded = files.upload()"
      ],
      "metadata": {
        "colab": {
          "base_uri": "https://localhost:8080/",
          "height": 73
        },
        "id": "rFJRigOCkyW5",
        "outputId": "b8306d4b-8b29-46af-f947-914fd43c475e"
      },
      "id": "rFJRigOCkyW5",
      "execution_count": 2,
      "outputs": [
        {
          "output_type": "display_data",
          "data": {
            "text/plain": [
              "<IPython.core.display.HTML object>"
            ],
            "text/html": [
              "\n",
              "     <input type=\"file\" id=\"files-12fd7883-d973-468d-88ec-a564adf2ddcf\" name=\"files[]\" multiple disabled\n",
              "        style=\"border:none\" />\n",
              "     <output id=\"result-12fd7883-d973-468d-88ec-a564adf2ddcf\">\n",
              "      Upload widget is only available when the cell has been executed in the\n",
              "      current browser session. Please rerun this cell to enable.\n",
              "      </output>\n",
              "      <script>// Copyright 2017 Google LLC\n",
              "//\n",
              "// Licensed under the Apache License, Version 2.0 (the \"License\");\n",
              "// you may not use this file except in compliance with the License.\n",
              "// You may obtain a copy of the License at\n",
              "//\n",
              "//      http://www.apache.org/licenses/LICENSE-2.0\n",
              "//\n",
              "// Unless required by applicable law or agreed to in writing, software\n",
              "// distributed under the License is distributed on an \"AS IS\" BASIS,\n",
              "// WITHOUT WARRANTIES OR CONDITIONS OF ANY KIND, either express or implied.\n",
              "// See the License for the specific language governing permissions and\n",
              "// limitations under the License.\n",
              "\n",
              "/**\n",
              " * @fileoverview Helpers for google.colab Python module.\n",
              " */\n",
              "(function(scope) {\n",
              "function span(text, styleAttributes = {}) {\n",
              "  const element = document.createElement('span');\n",
              "  element.textContent = text;\n",
              "  for (const key of Object.keys(styleAttributes)) {\n",
              "    element.style[key] = styleAttributes[key];\n",
              "  }\n",
              "  return element;\n",
              "}\n",
              "\n",
              "// Max number of bytes which will be uploaded at a time.\n",
              "const MAX_PAYLOAD_SIZE = 100 * 1024;\n",
              "\n",
              "function _uploadFiles(inputId, outputId) {\n",
              "  const steps = uploadFilesStep(inputId, outputId);\n",
              "  const outputElement = document.getElementById(outputId);\n",
              "  // Cache steps on the outputElement to make it available for the next call\n",
              "  // to uploadFilesContinue from Python.\n",
              "  outputElement.steps = steps;\n",
              "\n",
              "  return _uploadFilesContinue(outputId);\n",
              "}\n",
              "\n",
              "// This is roughly an async generator (not supported in the browser yet),\n",
              "// where there are multiple asynchronous steps and the Python side is going\n",
              "// to poll for completion of each step.\n",
              "// This uses a Promise to block the python side on completion of each step,\n",
              "// then passes the result of the previous step as the input to the next step.\n",
              "function _uploadFilesContinue(outputId) {\n",
              "  const outputElement = document.getElementById(outputId);\n",
              "  const steps = outputElement.steps;\n",
              "\n",
              "  const next = steps.next(outputElement.lastPromiseValue);\n",
              "  return Promise.resolve(next.value.promise).then((value) => {\n",
              "    // Cache the last promise value to make it available to the next\n",
              "    // step of the generator.\n",
              "    outputElement.lastPromiseValue = value;\n",
              "    return next.value.response;\n",
              "  });\n",
              "}\n",
              "\n",
              "/**\n",
              " * Generator function which is called between each async step of the upload\n",
              " * process.\n",
              " * @param {string} inputId Element ID of the input file picker element.\n",
              " * @param {string} outputId Element ID of the output display.\n",
              " * @return {!Iterable<!Object>} Iterable of next steps.\n",
              " */\n",
              "function* uploadFilesStep(inputId, outputId) {\n",
              "  const inputElement = document.getElementById(inputId);\n",
              "  inputElement.disabled = false;\n",
              "\n",
              "  const outputElement = document.getElementById(outputId);\n",
              "  outputElement.innerHTML = '';\n",
              "\n",
              "  const pickedPromise = new Promise((resolve) => {\n",
              "    inputElement.addEventListener('change', (e) => {\n",
              "      resolve(e.target.files);\n",
              "    });\n",
              "  });\n",
              "\n",
              "  const cancel = document.createElement('button');\n",
              "  inputElement.parentElement.appendChild(cancel);\n",
              "  cancel.textContent = 'Cancel upload';\n",
              "  const cancelPromise = new Promise((resolve) => {\n",
              "    cancel.onclick = () => {\n",
              "      resolve(null);\n",
              "    };\n",
              "  });\n",
              "\n",
              "  // Wait for the user to pick the files.\n",
              "  const files = yield {\n",
              "    promise: Promise.race([pickedPromise, cancelPromise]),\n",
              "    response: {\n",
              "      action: 'starting',\n",
              "    }\n",
              "  };\n",
              "\n",
              "  cancel.remove();\n",
              "\n",
              "  // Disable the input element since further picks are not allowed.\n",
              "  inputElement.disabled = true;\n",
              "\n",
              "  if (!files) {\n",
              "    return {\n",
              "      response: {\n",
              "        action: 'complete',\n",
              "      }\n",
              "    };\n",
              "  }\n",
              "\n",
              "  for (const file of files) {\n",
              "    const li = document.createElement('li');\n",
              "    li.append(span(file.name, {fontWeight: 'bold'}));\n",
              "    li.append(span(\n",
              "        `(${file.type || 'n/a'}) - ${file.size} bytes, ` +\n",
              "        `last modified: ${\n",
              "            file.lastModifiedDate ? file.lastModifiedDate.toLocaleDateString() :\n",
              "                                    'n/a'} - `));\n",
              "    const percent = span('0% done');\n",
              "    li.appendChild(percent);\n",
              "\n",
              "    outputElement.appendChild(li);\n",
              "\n",
              "    const fileDataPromise = new Promise((resolve) => {\n",
              "      const reader = new FileReader();\n",
              "      reader.onload = (e) => {\n",
              "        resolve(e.target.result);\n",
              "      };\n",
              "      reader.readAsArrayBuffer(file);\n",
              "    });\n",
              "    // Wait for the data to be ready.\n",
              "    let fileData = yield {\n",
              "      promise: fileDataPromise,\n",
              "      response: {\n",
              "        action: 'continue',\n",
              "      }\n",
              "    };\n",
              "\n",
              "    // Use a chunked sending to avoid message size limits. See b/62115660.\n",
              "    let position = 0;\n",
              "    do {\n",
              "      const length = Math.min(fileData.byteLength - position, MAX_PAYLOAD_SIZE);\n",
              "      const chunk = new Uint8Array(fileData, position, length);\n",
              "      position += length;\n",
              "\n",
              "      const base64 = btoa(String.fromCharCode.apply(null, chunk));\n",
              "      yield {\n",
              "        response: {\n",
              "          action: 'append',\n",
              "          file: file.name,\n",
              "          data: base64,\n",
              "        },\n",
              "      };\n",
              "\n",
              "      let percentDone = fileData.byteLength === 0 ?\n",
              "          100 :\n",
              "          Math.round((position / fileData.byteLength) * 100);\n",
              "      percent.textContent = `${percentDone}% done`;\n",
              "\n",
              "    } while (position < fileData.byteLength);\n",
              "  }\n",
              "\n",
              "  // All done.\n",
              "  yield {\n",
              "    response: {\n",
              "      action: 'complete',\n",
              "    }\n",
              "  };\n",
              "}\n",
              "\n",
              "scope.google = scope.google || {};\n",
              "scope.google.colab = scope.google.colab || {};\n",
              "scope.google.colab._files = {\n",
              "  _uploadFiles,\n",
              "  _uploadFilesContinue,\n",
              "};\n",
              "})(self);\n",
              "</script> "
            ]
          },
          "metadata": {}
        },
        {
          "output_type": "stream",
          "name": "stdout",
          "text": [
            "Saving sonar.all-data.csv to sonar.all-data.csv\n"
          ]
        }
      ]
    },
    {
      "cell_type": "markdown",
      "id": "342464d6",
      "metadata": {
        "id": "342464d6"
      },
      "source": [
        "Load the dataset into a dataframe and show the first few rows:"
      ]
    },
    {
      "cell_type": "code",
      "execution_count": 3,
      "id": "cbeb943c",
      "metadata": {
        "colab": {
          "base_uri": "https://localhost:8080/",
          "height": 236
        },
        "id": "cbeb943c",
        "outputId": "fade1039-e987-4b0c-f2e6-c625ed3eae0b"
      },
      "outputs": [
        {
          "output_type": "execute_result",
          "data": {
            "text/plain": [
              "       0       1       2       3       4       5       6       7       8   \\\n",
              "0  0.0200  0.0371  0.0428  0.0207  0.0954  0.0986  0.1539  0.1601  0.3109   \n",
              "1  0.0453  0.0523  0.0843  0.0689  0.1183  0.2583  0.2156  0.3481  0.3337   \n",
              "2  0.0262  0.0582  0.1099  0.1083  0.0974  0.2280  0.2431  0.3771  0.5598   \n",
              "3  0.0100  0.0171  0.0623  0.0205  0.0205  0.0368  0.1098  0.1276  0.0598   \n",
              "4  0.0762  0.0666  0.0481  0.0394  0.0590  0.0649  0.1209  0.2467  0.3564   \n",
              "\n",
              "       9   ...      51      52      53      54      55      56      57  \\\n",
              "0  0.2111  ...  0.0027  0.0065  0.0159  0.0072  0.0167  0.0180  0.0084   \n",
              "1  0.2872  ...  0.0084  0.0089  0.0048  0.0094  0.0191  0.0140  0.0049   \n",
              "2  0.6194  ...  0.0232  0.0166  0.0095  0.0180  0.0244  0.0316  0.0164   \n",
              "3  0.1264  ...  0.0121  0.0036  0.0150  0.0085  0.0073  0.0050  0.0044   \n",
              "4  0.4459  ...  0.0031  0.0054  0.0105  0.0110  0.0015  0.0072  0.0048   \n",
              "\n",
              "       58      59  60  \n",
              "0  0.0090  0.0032   R  \n",
              "1  0.0052  0.0044   R  \n",
              "2  0.0095  0.0078   R  \n",
              "3  0.0040  0.0117   R  \n",
              "4  0.0107  0.0094   R  \n",
              "\n",
              "[5 rows x 61 columns]"
            ],
            "text/html": [
              "\n",
              "  <div id=\"df-d021bb33-ec91-42b7-9018-eef2dc9f0f80\">\n",
              "    <div class=\"colab-df-container\">\n",
              "      <div>\n",
              "<style scoped>\n",
              "    .dataframe tbody tr th:only-of-type {\n",
              "        vertical-align: middle;\n",
              "    }\n",
              "\n",
              "    .dataframe tbody tr th {\n",
              "        vertical-align: top;\n",
              "    }\n",
              "\n",
              "    .dataframe thead th {\n",
              "        text-align: right;\n",
              "    }\n",
              "</style>\n",
              "<table border=\"1\" class=\"dataframe\">\n",
              "  <thead>\n",
              "    <tr style=\"text-align: right;\">\n",
              "      <th></th>\n",
              "      <th>0</th>\n",
              "      <th>1</th>\n",
              "      <th>2</th>\n",
              "      <th>3</th>\n",
              "      <th>4</th>\n",
              "      <th>5</th>\n",
              "      <th>6</th>\n",
              "      <th>7</th>\n",
              "      <th>8</th>\n",
              "      <th>9</th>\n",
              "      <th>...</th>\n",
              "      <th>51</th>\n",
              "      <th>52</th>\n",
              "      <th>53</th>\n",
              "      <th>54</th>\n",
              "      <th>55</th>\n",
              "      <th>56</th>\n",
              "      <th>57</th>\n",
              "      <th>58</th>\n",
              "      <th>59</th>\n",
              "      <th>60</th>\n",
              "    </tr>\n",
              "  </thead>\n",
              "  <tbody>\n",
              "    <tr>\n",
              "      <th>0</th>\n",
              "      <td>0.0200</td>\n",
              "      <td>0.0371</td>\n",
              "      <td>0.0428</td>\n",
              "      <td>0.0207</td>\n",
              "      <td>0.0954</td>\n",
              "      <td>0.0986</td>\n",
              "      <td>0.1539</td>\n",
              "      <td>0.1601</td>\n",
              "      <td>0.3109</td>\n",
              "      <td>0.2111</td>\n",
              "      <td>...</td>\n",
              "      <td>0.0027</td>\n",
              "      <td>0.0065</td>\n",
              "      <td>0.0159</td>\n",
              "      <td>0.0072</td>\n",
              "      <td>0.0167</td>\n",
              "      <td>0.0180</td>\n",
              "      <td>0.0084</td>\n",
              "      <td>0.0090</td>\n",
              "      <td>0.0032</td>\n",
              "      <td>R</td>\n",
              "    </tr>\n",
              "    <tr>\n",
              "      <th>1</th>\n",
              "      <td>0.0453</td>\n",
              "      <td>0.0523</td>\n",
              "      <td>0.0843</td>\n",
              "      <td>0.0689</td>\n",
              "      <td>0.1183</td>\n",
              "      <td>0.2583</td>\n",
              "      <td>0.2156</td>\n",
              "      <td>0.3481</td>\n",
              "      <td>0.3337</td>\n",
              "      <td>0.2872</td>\n",
              "      <td>...</td>\n",
              "      <td>0.0084</td>\n",
              "      <td>0.0089</td>\n",
              "      <td>0.0048</td>\n",
              "      <td>0.0094</td>\n",
              "      <td>0.0191</td>\n",
              "      <td>0.0140</td>\n",
              "      <td>0.0049</td>\n",
              "      <td>0.0052</td>\n",
              "      <td>0.0044</td>\n",
              "      <td>R</td>\n",
              "    </tr>\n",
              "    <tr>\n",
              "      <th>2</th>\n",
              "      <td>0.0262</td>\n",
              "      <td>0.0582</td>\n",
              "      <td>0.1099</td>\n",
              "      <td>0.1083</td>\n",
              "      <td>0.0974</td>\n",
              "      <td>0.2280</td>\n",
              "      <td>0.2431</td>\n",
              "      <td>0.3771</td>\n",
              "      <td>0.5598</td>\n",
              "      <td>0.6194</td>\n",
              "      <td>...</td>\n",
              "      <td>0.0232</td>\n",
              "      <td>0.0166</td>\n",
              "      <td>0.0095</td>\n",
              "      <td>0.0180</td>\n",
              "      <td>0.0244</td>\n",
              "      <td>0.0316</td>\n",
              "      <td>0.0164</td>\n",
              "      <td>0.0095</td>\n",
              "      <td>0.0078</td>\n",
              "      <td>R</td>\n",
              "    </tr>\n",
              "    <tr>\n",
              "      <th>3</th>\n",
              "      <td>0.0100</td>\n",
              "      <td>0.0171</td>\n",
              "      <td>0.0623</td>\n",
              "      <td>0.0205</td>\n",
              "      <td>0.0205</td>\n",
              "      <td>0.0368</td>\n",
              "      <td>0.1098</td>\n",
              "      <td>0.1276</td>\n",
              "      <td>0.0598</td>\n",
              "      <td>0.1264</td>\n",
              "      <td>...</td>\n",
              "      <td>0.0121</td>\n",
              "      <td>0.0036</td>\n",
              "      <td>0.0150</td>\n",
              "      <td>0.0085</td>\n",
              "      <td>0.0073</td>\n",
              "      <td>0.0050</td>\n",
              "      <td>0.0044</td>\n",
              "      <td>0.0040</td>\n",
              "      <td>0.0117</td>\n",
              "      <td>R</td>\n",
              "    </tr>\n",
              "    <tr>\n",
              "      <th>4</th>\n",
              "      <td>0.0762</td>\n",
              "      <td>0.0666</td>\n",
              "      <td>0.0481</td>\n",
              "      <td>0.0394</td>\n",
              "      <td>0.0590</td>\n",
              "      <td>0.0649</td>\n",
              "      <td>0.1209</td>\n",
              "      <td>0.2467</td>\n",
              "      <td>0.3564</td>\n",
              "      <td>0.4459</td>\n",
              "      <td>...</td>\n",
              "      <td>0.0031</td>\n",
              "      <td>0.0054</td>\n",
              "      <td>0.0105</td>\n",
              "      <td>0.0110</td>\n",
              "      <td>0.0015</td>\n",
              "      <td>0.0072</td>\n",
              "      <td>0.0048</td>\n",
              "      <td>0.0107</td>\n",
              "      <td>0.0094</td>\n",
              "      <td>R</td>\n",
              "    </tr>\n",
              "  </tbody>\n",
              "</table>\n",
              "<p>5 rows × 61 columns</p>\n",
              "</div>\n",
              "      <button class=\"colab-df-convert\" onclick=\"convertToInteractive('df-d021bb33-ec91-42b7-9018-eef2dc9f0f80')\"\n",
              "              title=\"Convert this dataframe to an interactive table.\"\n",
              "              style=\"display:none;\">\n",
              "        \n",
              "  <svg xmlns=\"http://www.w3.org/2000/svg\" height=\"24px\"viewBox=\"0 0 24 24\"\n",
              "       width=\"24px\">\n",
              "    <path d=\"M0 0h24v24H0V0z\" fill=\"none\"/>\n",
              "    <path d=\"M18.56 5.44l.94 2.06.94-2.06 2.06-.94-2.06-.94-.94-2.06-.94 2.06-2.06.94zm-11 1L8.5 8.5l.94-2.06 2.06-.94-2.06-.94L8.5 2.5l-.94 2.06-2.06.94zm10 10l.94 2.06.94-2.06 2.06-.94-2.06-.94-.94-2.06-.94 2.06-2.06.94z\"/><path d=\"M17.41 7.96l-1.37-1.37c-.4-.4-.92-.59-1.43-.59-.52 0-1.04.2-1.43.59L10.3 9.45l-7.72 7.72c-.78.78-.78 2.05 0 2.83L4 21.41c.39.39.9.59 1.41.59.51 0 1.02-.2 1.41-.59l7.78-7.78 2.81-2.81c.8-.78.8-2.07 0-2.86zM5.41 20L4 18.59l7.72-7.72 1.47 1.35L5.41 20z\"/>\n",
              "  </svg>\n",
              "      </button>\n",
              "      \n",
              "  <style>\n",
              "    .colab-df-container {\n",
              "      display:flex;\n",
              "      flex-wrap:wrap;\n",
              "      gap: 12px;\n",
              "    }\n",
              "\n",
              "    .colab-df-convert {\n",
              "      background-color: #E8F0FE;\n",
              "      border: none;\n",
              "      border-radius: 50%;\n",
              "      cursor: pointer;\n",
              "      display: none;\n",
              "      fill: #1967D2;\n",
              "      height: 32px;\n",
              "      padding: 0 0 0 0;\n",
              "      width: 32px;\n",
              "    }\n",
              "\n",
              "    .colab-df-convert:hover {\n",
              "      background-color: #E2EBFA;\n",
              "      box-shadow: 0px 1px 2px rgba(60, 64, 67, 0.3), 0px 1px 3px 1px rgba(60, 64, 67, 0.15);\n",
              "      fill: #174EA6;\n",
              "    }\n",
              "\n",
              "    [theme=dark] .colab-df-convert {\n",
              "      background-color: #3B4455;\n",
              "      fill: #D2E3FC;\n",
              "    }\n",
              "\n",
              "    [theme=dark] .colab-df-convert:hover {\n",
              "      background-color: #434B5C;\n",
              "      box-shadow: 0px 1px 3px 1px rgba(0, 0, 0, 0.15);\n",
              "      filter: drop-shadow(0px 1px 2px rgba(0, 0, 0, 0.3));\n",
              "      fill: #FFFFFF;\n",
              "    }\n",
              "  </style>\n",
              "\n",
              "      <script>\n",
              "        const buttonEl =\n",
              "          document.querySelector('#df-d021bb33-ec91-42b7-9018-eef2dc9f0f80 button.colab-df-convert');\n",
              "        buttonEl.style.display =\n",
              "          google.colab.kernel.accessAllowed ? 'block' : 'none';\n",
              "\n",
              "        async function convertToInteractive(key) {\n",
              "          const element = document.querySelector('#df-d021bb33-ec91-42b7-9018-eef2dc9f0f80');\n",
              "          const dataTable =\n",
              "            await google.colab.kernel.invokeFunction('convertToInteractive',\n",
              "                                                     [key], {});\n",
              "          if (!dataTable) return;\n",
              "\n",
              "          const docLinkHtml = 'Like what you see? Visit the ' +\n",
              "            '<a target=\"_blank\" href=https://colab.research.google.com/notebooks/data_table.ipynb>data table notebook</a>'\n",
              "            + ' to learn more about interactive tables.';\n",
              "          element.innerHTML = '';\n",
              "          dataTable['output_type'] = 'display_data';\n",
              "          await google.colab.output.renderOutput(dataTable, element);\n",
              "          const docLink = document.createElement('div');\n",
              "          docLink.innerHTML = docLinkHtml;\n",
              "          element.appendChild(docLink);\n",
              "        }\n",
              "      </script>\n",
              "    </div>\n",
              "  </div>\n",
              "  "
            ]
          },
          "metadata": {},
          "execution_count": 3
        }
      ],
      "source": [
        "sonar_dataframe = pd.read_csv(\"sonar.all-data.csv\", header=None)\n",
        "sonar_dataframe.head()"
      ]
    },
    {
      "cell_type": "markdown",
      "id": "293a57c1",
      "metadata": {
        "id": "293a57c1"
      },
      "source": [
        "How many rows and columns does this data set have:"
      ]
    },
    {
      "cell_type": "code",
      "execution_count": 4,
      "id": "d424adec",
      "metadata": {
        "colab": {
          "base_uri": "https://localhost:8080/",
          "height": 0
        },
        "id": "d424adec",
        "outputId": "9d74d05e-6688-4048-aeb1-dacda527955e"
      },
      "outputs": [
        {
          "output_type": "stream",
          "name": "stdout",
          "text": [
            "Number of rows: 208\n",
            "Number of columns: 61\n"
          ]
        }
      ],
      "source": [
        "print(\"Number of rows:\", sonar_dataframe.shape[0])\n",
        "print(\"Number of columns:\", sonar_dataframe.shape[1])"
      ]
    },
    {
      "cell_type": "markdown",
      "id": "7720805e",
      "metadata": {
        "id": "7720805e"
      },
      "source": [
        "Check the columns of the dataframe using info() function:"
      ]
    },
    {
      "cell_type": "code",
      "execution_count": 5,
      "id": "687cbbda",
      "metadata": {
        "colab": {
          "base_uri": "https://localhost:8080/",
          "height": 0
        },
        "id": "687cbbda",
        "outputId": "eb1b39c2-fb9a-4894-8945-6fd29fb7af62"
      },
      "outputs": [
        {
          "output_type": "stream",
          "name": "stdout",
          "text": [
            "<class 'pandas.core.frame.DataFrame'>\n",
            "RangeIndex: 208 entries, 0 to 207\n",
            "Data columns (total 61 columns):\n",
            " #   Column  Non-Null Count  Dtype  \n",
            "---  ------  --------------  -----  \n",
            " 0   0       208 non-null    float64\n",
            " 1   1       208 non-null    float64\n",
            " 2   2       208 non-null    float64\n",
            " 3   3       208 non-null    float64\n",
            " 4   4       208 non-null    float64\n",
            " 5   5       208 non-null    float64\n",
            " 6   6       208 non-null    float64\n",
            " 7   7       208 non-null    float64\n",
            " 8   8       208 non-null    float64\n",
            " 9   9       208 non-null    float64\n",
            " 10  10      208 non-null    float64\n",
            " 11  11      208 non-null    float64\n",
            " 12  12      208 non-null    float64\n",
            " 13  13      208 non-null    float64\n",
            " 14  14      208 non-null    float64\n",
            " 15  15      208 non-null    float64\n",
            " 16  16      208 non-null    float64\n",
            " 17  17      208 non-null    float64\n",
            " 18  18      208 non-null    float64\n",
            " 19  19      208 non-null    float64\n",
            " 20  20      208 non-null    float64\n",
            " 21  21      208 non-null    float64\n",
            " 22  22      208 non-null    float64\n",
            " 23  23      208 non-null    float64\n",
            " 24  24      208 non-null    float64\n",
            " 25  25      208 non-null    float64\n",
            " 26  26      208 non-null    float64\n",
            " 27  27      208 non-null    float64\n",
            " 28  28      208 non-null    float64\n",
            " 29  29      208 non-null    float64\n",
            " 30  30      208 non-null    float64\n",
            " 31  31      208 non-null    float64\n",
            " 32  32      208 non-null    float64\n",
            " 33  33      208 non-null    float64\n",
            " 34  34      208 non-null    float64\n",
            " 35  35      208 non-null    float64\n",
            " 36  36      208 non-null    float64\n",
            " 37  37      208 non-null    float64\n",
            " 38  38      208 non-null    float64\n",
            " 39  39      208 non-null    float64\n",
            " 40  40      208 non-null    float64\n",
            " 41  41      208 non-null    float64\n",
            " 42  42      208 non-null    float64\n",
            " 43  43      208 non-null    float64\n",
            " 44  44      208 non-null    float64\n",
            " 45  45      208 non-null    float64\n",
            " 46  46      208 non-null    float64\n",
            " 47  47      208 non-null    float64\n",
            " 48  48      208 non-null    float64\n",
            " 49  49      208 non-null    float64\n",
            " 50  50      208 non-null    float64\n",
            " 51  51      208 non-null    float64\n",
            " 52  52      208 non-null    float64\n",
            " 53  53      208 non-null    float64\n",
            " 54  54      208 non-null    float64\n",
            " 55  55      208 non-null    float64\n",
            " 56  56      208 non-null    float64\n",
            " 57  57      208 non-null    float64\n",
            " 58  58      208 non-null    float64\n",
            " 59  59      208 non-null    float64\n",
            " 60  60      208 non-null    object \n",
            "dtypes: float64(60), object(1)\n",
            "memory usage: 99.2+ KB\n"
          ]
        }
      ],
      "source": [
        "sonar_dataframe.info()"
      ]
    },
    {
      "cell_type": "markdown",
      "id": "adc49990",
      "metadata": {
        "id": "adc49990"
      },
      "source": [
        "Convert the target column to 0 and 1:"
      ]
    },
    {
      "cell_type": "code",
      "execution_count": 6,
      "id": "af88cd89",
      "metadata": {
        "id": "af88cd89"
      },
      "outputs": [],
      "source": [
        "sonar_dataframe[60]=sonar_dataframe[60].map({'R': 0,'M' :1 })"
      ]
    },
    {
      "cell_type": "markdown",
      "id": "3f2ec31f",
      "metadata": {
        "id": "3f2ec31f"
      },
      "source": [
        "Convert the sonar_dataframe to numpy array using the values function:\n"
      ]
    },
    {
      "cell_type": "code",
      "execution_count": 7,
      "id": "ba952ed5",
      "metadata": {
        "id": "ba952ed5"
      },
      "outputs": [],
      "source": [
        "sonar_np_array = sonar_dataframe.values"
      ]
    },
    {
      "cell_type": "markdown",
      "id": "c115c225",
      "metadata": {
        "id": "c115c225"
      },
      "source": [
        "Split the dataset into  80\\% train and 20\\% validation usig the train_test_split command:"
      ]
    },
    {
      "cell_type": "code",
      "execution_count": 8,
      "id": "1fbb3707",
      "metadata": {
        "id": "1fbb3707"
      },
      "outputs": [],
      "source": [
        "train, test = train_test_split(sonar_np_array,test_size=0.2)"
      ]
    },
    {
      "cell_type": "markdown",
      "id": "4bc748d1",
      "metadata": {
        "id": "4bc748d1"
      },
      "source": [
        "split the last column as the label:"
      ]
    },
    {
      "cell_type": "code",
      "execution_count": 9,
      "id": "1b83058f",
      "metadata": {
        "id": "1b83058f"
      },
      "outputs": [],
      "source": [
        "X_train = train[:,0:60].astype(float)\n",
        "Y_train = train[:,60]"
      ]
    },
    {
      "cell_type": "code",
      "execution_count": 10,
      "id": "e96a9d42",
      "metadata": {
        "id": "e96a9d42"
      },
      "outputs": [],
      "source": [
        "X_test = test[:,0:60].astype(float)\n",
        "Y_test = test[:,60]"
      ]
    },
    {
      "cell_type": "markdown",
      "id": "8141bc5b",
      "metadata": {
        "id": "8141bc5b"
      },
      "source": [
        "## Train a logistic Regression Model\n",
        "Use sklearn to train a logistic regression model:"
      ]
    },
    {
      "cell_type": "code",
      "execution_count": 11,
      "id": "66dd7099",
      "metadata": {
        "id": "66dd7099"
      },
      "outputs": [],
      "source": [
        "from sklearn.linear_model import LogisticRegression\n",
        "from sklearn.metrics import accuracy_score\n",
        "# Train a logistic regression model\n",
        "logreg = LogisticRegression()\n",
        "logreg.fit(X_train, Y_train)\n",
        "\n",
        "# Make predictions on the test set\n",
        "predictions = logreg.predict(X_test)\n"
      ]
    },
    {
      "cell_type": "markdown",
      "id": "cda66b7f",
      "metadata": {
        "id": "cda66b7f"
      },
      "source": [
        "What is the accuracy of the model:"
      ]
    },
    {
      "cell_type": "code",
      "execution_count": 12,
      "id": "8a305d4e",
      "metadata": {
        "colab": {
          "base_uri": "https://localhost:8080/",
          "height": 0
        },
        "id": "8a305d4e",
        "outputId": "fbbe2473-c968-419d-fc79-a6d0cccdd51a"
      },
      "outputs": [
        {
          "output_type": "stream",
          "name": "stdout",
          "text": [
            "Accuracy: 0.7142857142857143\n"
          ]
        }
      ],
      "source": [
        "# Calculate the accuracy score\n",
        "accuracy = accuracy_score(Y_test, predictions)\n",
        "print(f\"Accuracy: {accuracy}\")"
      ]
    },
    {
      "cell_type": "markdown",
      "id": "1425349b",
      "metadata": {
        "id": "1425349b"
      },
      "source": [
        "## Building a Neural Network Model\n",
        "In this section, you will create an NN model with one hidden layer and a sigmoid function for the output layer. Use a tanh functiomn for the hidden layer activation. Use average cross entropy for the loss function.\n",
        "Fill in the missing code wherever you see \\#CODE HERE comment"
      ]
    },
    {
      "cell_type": "code",
      "execution_count": 13,
      "id": "2f0df930",
      "metadata": {
        "id": "2f0df930"
      },
      "outputs": [],
      "source": [
        "def initialize_parameters(n_x, n_h, n_y):\n",
        "    np.random.seed(2) \n",
        "    \n",
        "    W1 = np.random.randn(n_h,n_x) * 0.01\n",
        "    b1 = np.zeros((n_h,1))\n",
        "    W2 = np.random.randn(n_y,n_h) * 0.01\n",
        "    b2 = np.zeros((n_y,1))\n",
        "    \n",
        "    parameters = {\"W1\": W1,\n",
        "                  \"b1\": b1,\n",
        "                  \"W2\": W2,\n",
        "                  \"b2\": b2}\n",
        "    \n",
        "    return parameters"
      ]
    },
    {
      "cell_type": "code",
      "execution_count": 14,
      "id": "e6af4ebe",
      "metadata": {
        "id": "e6af4ebe"
      },
      "outputs": [],
      "source": [
        "def sigmoid(z):\n",
        "    return 1/(1 + np.exp(-z))"
      ]
    },
    {
      "cell_type": "code",
      "source": [
        "def forward_propagation(X, parameters):\n",
        "    \n",
        "    #Computes the forward propagation for a neural network with two layers.\n",
        "    \n",
        "    #Arguments:\n",
        "    #X -- input dataset (number of features, number of examples)\n",
        "    #parameters -- dictionary containing the weights and biases for the two layers (W1, b1, W2, b2)\n",
        "    \n",
        "    #Returns:\n",
        "    #A2 -- the output of the second layer\n",
        "    #cache -- dictionary containing the values of the intermediate calculations\n",
        "        \n",
        "    # Retrieve the parameters\n",
        "    W1 = parameters[\"W1\"]\n",
        "    b1 = parameters[\"b1\"]\n",
        "    W2 = parameters[\"W2\"]\n",
        "    b2 = parameters[\"b2\"]\n",
        "    \n",
        "    # Compute the first layer (linear transformation + activation)\n",
        "    Z1 = np.dot(W1, X) + b1\n",
        "    A1 = np.tanh(Z1)\n",
        "    \n",
        "    # Compute the second layer (linear transformation + activation)\n",
        "    Z2 = np.dot(W2, A1) + b2\n",
        "    A2 =  sigmoid(Z2) \n",
        "    \n",
        "    # Store the intermediate calculations in a cache dictionary\n",
        "    cache = {\"Z1\": Z1,\n",
        "             \"A1\": A1,\n",
        "             \"Z2\": Z2,\n",
        "             \"A2\": A2}\n",
        "    \n",
        "    # Return the output of the second layer and the cache dictionary\n",
        "    return A2, cache"
      ],
      "metadata": {
        "id": "RHaoUG7m0l_3"
      },
      "id": "RHaoUG7m0l_3",
      "execution_count": 15,
      "outputs": []
    },
    {
      "cell_type": "code",
      "execution_count": 16,
      "id": "1b1bf603",
      "metadata": {
        "id": "1b1bf603"
      },
      "outputs": [],
      "source": [
        "def cross_entropy(Y_hat, Y, parameters):\n",
        "    m = Y.shape[1] # number of example\n",
        "    logprobs = logprobs = np.multiply(Y ,np.log(Y_hat)) + np.multiply((1-Y), np.log(1-Y_hat))\n",
        "    cost = (-1/m) * np.sum(logprobs)\n",
        "    cost = float(np.squeeze(cost)) \n",
        "                                    \n",
        "    return cost"
      ]
    },
    {
      "cell_type": "code",
      "source": [
        "def backward_propagation(parameters, cache, X, Y):\n",
        "    m = X.shape[0]\n",
        "\n",
        "    # retrieve parameters from dictionary\n",
        "    W1 = parameters[\"W1\"]\n",
        "    b1 = parameters[\"b1\"]\n",
        "    W2 = parameters[\"W2\"]\n",
        "    b2 = parameters[\"b2\"]\n",
        "    \n",
        "    # retrieve cached activations and linear combinations\n",
        "    A1 = cache[\"A1\"]\n",
        "    A2 = cache[\"A2\"]\n",
        "    Z1 = cache[\"Z1\"]\n",
        "    Z2 = cache[\"Z2\"]\n",
        "    \n",
        "    # compute derivatives using chain rule\n",
        "    dZ2 = A2 - Y\n",
        "    dW2 = (1/m) * np.dot(dZ2,A1.T)\n",
        "    db2 = (1/m) * np.sum(dZ2, axis=1, keepdims=True)\n",
        "\n",
        "    # Calculate the derivative of the activation function of the hidden layer\n",
        "    dA1 = np.dot(W2.T,dZ2)\n",
        "    dZ1 = dA1 * (1 - np.power(np.tanh(Z1), 2))\n",
        "    \n",
        "    # Calculate the gradients for the first layer\n",
        "    dW1 = (1/m) * np.dot(dZ1,X.T)\n",
        "    db1 = (1/m) * np.sum(dZ1, axis=1, keepdims=True)\n",
        "    \n",
        "    # store derivatives in a dictionary\n",
        "    grads = {\"dW1\": dW1,\n",
        "             \"db1\": db1,\n",
        "             \"dW2\": dW2,\n",
        "             \"db2\": db2}\n",
        "    \n",
        "    return grads"
      ],
      "metadata": {
        "id": "G1c9eZfC2vWv"
      },
      "id": "G1c9eZfC2vWv",
      "execution_count": 17,
      "outputs": []
    },
    {
      "cell_type": "code",
      "execution_count": 18,
      "id": "fedc4f57",
      "metadata": {
        "id": "fedc4f57"
      },
      "outputs": [],
      "source": [
        "def update_parameters(parameters, grads, learning_rate):\n",
        "    \n",
        "    W1 = parameters[\"W1\"]\n",
        "    b1 = parameters[\"b1\"]\n",
        "    W2 = parameters[\"W2\"]\n",
        "    b2 = parameters[\"b2\"]\n",
        "    \n",
        " \n",
        "    dW1 = grads[\"dW1\"]\n",
        "    db1 = grads[\"db1\"]\n",
        "    dW2 = grads[\"dW2\"]\n",
        "    db2 = grads[\"db2\"]\n",
        "    \n",
        "\n",
        "    W1 = W1 - learning_rate*dW1\n",
        "    b1 = b1 - learning_rate*db1\n",
        "    W2 = W2 - learning_rate*dW2\n",
        "    b2 = b2 - learning_rate*db2\n",
        "\n",
        "    \n",
        "    parameters = {\"W1\": W1,\n",
        "                  \"b1\": b1,\n",
        "                  \"W2\": W2,\n",
        "                  \"b2\": b2}\n",
        "    \n",
        "    return parameters"
      ]
    },
    {
      "cell_type": "markdown",
      "id": "16f2863d",
      "metadata": {
        "id": "16f2863d"
      },
      "source": [
        "Below is the main function which puts all the previous functions together to train the model"
      ]
    },
    {
      "cell_type": "code",
      "execution_count": 19,
      "id": "e98f6022",
      "metadata": {
        "id": "e98f6022"
      },
      "outputs": [],
      "source": [
        "def train_nn_model(X, Y, num_of_hidden_units, learning_rate, num_iterations = 10000, print_cost=False):\n",
        "    \n",
        "    input_size=X_train.shape[1] \n",
        "    num_of_output_units=1\n",
        "    parameters = initialize_parameters(input_size, num_of_hidden_units, num_of_output_units)\n",
        "    W1 = parameters[\"W1\"]\n",
        "    b1 = parameters[\"b1\"]\n",
        "    W2 = parameters[\"W2\"]\n",
        "    b2 = parameters[\"b2\"]\n",
        "    \n",
        "    # gradient descent Loop\n",
        "    for i in range(0, num_iterations):\n",
        "        A2, cache = forward_propagation(X, parameters)\n",
        "        grads = backward_propagation(parameters, cache, X, Y)\n",
        "        parameters = update_parameters(parameters, grads, learning_rate)\n",
        "        if print_cost and i % 10000 == 0:\n",
        "            cost = cross_entropy(A2, Y, parameters)\n",
        "            print (\"Cost after iteration %i: %f\" %(i, cost))\n",
        "\n",
        "    return parameters"
      ]
    },
    {
      "cell_type": "markdown",
      "id": "4e9c22ba",
      "metadata": {
        "id": "4e9c22ba"
      },
      "source": [
        "Predict is the scoring function to get predictions for new instances using the trained model: "
      ]
    },
    {
      "cell_type": "code",
      "execution_count": 20,
      "id": "5cb513d3",
      "metadata": {
        "id": "5cb513d3"
      },
      "outputs": [],
      "source": [
        "def predict(parameters, X):\n",
        "    A2, cache = forward_propagation(X, parameters)\n",
        "    predictions = (A2 > 0.5)    \n",
        "    return predictions\n"
      ]
    },
    {
      "cell_type": "markdown",
      "id": "aa81ba4b",
      "metadata": {
        "id": "aa81ba4b"
      },
      "source": [
        "Train the model using the train_nn_model defined above with 5 units in the hidden layer"
      ]
    },
    {
      "cell_type": "code",
      "source": [
        "print(X_train.shape) # prints (166, 5)\n",
        "print(Y_train.shape) # prints (166,)\n"
      ],
      "metadata": {
        "colab": {
          "base_uri": "https://localhost:8080/",
          "height": 0
        },
        "id": "r57r0b-u4Vzc",
        "outputId": "fe204549-a74f-4390-f445-521d0253a4e1"
      },
      "id": "r57r0b-u4Vzc",
      "execution_count": 21,
      "outputs": [
        {
          "output_type": "stream",
          "name": "stdout",
          "text": [
            "(166, 60)\n",
            "(166,)\n"
          ]
        }
      ]
    },
    {
      "cell_type": "code",
      "source": [
        "X = X_train.T\n",
        "Y = Y_train.reshape(1, -1)\n",
        "num_of_hidden_units = 5\n",
        "learning_rate = 0.1\n"
      ],
      "metadata": {
        "id": "MNsk3DBi4bHS"
      },
      "id": "MNsk3DBi4bHS",
      "execution_count": 22,
      "outputs": []
    },
    {
      "cell_type": "code",
      "execution_count": 41,
      "id": "99e257b3",
      "metadata": {
        "colab": {
          "base_uri": "https://localhost:8080/",
          "height": 0
        },
        "id": "99e257b3",
        "outputId": "206244b4-4f5b-48c9-dc67-44e9c7c6daf0"
      },
      "outputs": [
        {
          "output_type": "stream",
          "name": "stdout",
          "text": [
            "Cost after iteration 0: 0.693185\n",
            "Cost after iteration 10000: 0.002334\n",
            "Cost after iteration 20000: 0.000887\n",
            "Cost after iteration 30000: 0.000527\n",
            "Cost after iteration 40000: 0.000370\n",
            "Cost after iteration 50000: 0.000283\n",
            "Cost after iteration 60000: 0.000228\n",
            "Cost after iteration 70000: 0.000190\n",
            "Cost after iteration 80000: 0.000163\n",
            "Cost after iteration 90000: 0.000142\n"
          ]
        }
      ],
      "source": [
        "num_iterations = 100000\n",
        "parameters = train_nn_model(X, Y, num_of_hidden_units, learning_rate, num_iterations, print_cost=True)"
      ]
    },
    {
      "cell_type": "markdown",
      "id": "1a861a6b",
      "metadata": {
        "id": "1a861a6b"
      },
      "source": [
        "Use the predict function to generate the output for the X_test data. What is the accuracy of the model?"
      ]
    },
    {
      "cell_type": "code",
      "execution_count": 42,
      "id": "3000ab4b",
      "metadata": {
        "id": "3000ab4b",
        "colab": {
          "base_uri": "https://localhost:8080/",
          "height": 0
        },
        "outputId": "c93c7707-008e-4b00-9d73-61b1ed19a722"
      },
      "outputs": [
        {
          "output_type": "stream",
          "name": "stdout",
          "text": [
            "Accuracy: 0.8571428571428571\n"
          ]
        }
      ],
      "source": [
        "predictions = predict(parameters, X_test.T)\n",
        "accuracy = accuracy_score(Y_test, predictions.flatten())\n",
        "print(\"Accuracy:\", accuracy)"
      ]
    },
    {
      "cell_type": "code",
      "execution_count": 43,
      "id": "010999ba",
      "metadata": {
        "id": "010999ba",
        "colab": {
          "base_uri": "https://localhost:8080/",
          "height": 0
        },
        "outputId": "d43cd0d6-3555-4fbd-80f8-a315e0aacc3c"
      },
      "outputs": [
        {
          "output_type": "stream",
          "name": "stdout",
          "text": [
            "Accuracy: 85%\n"
          ]
        }
      ],
      "source": [
        "print ('Accuracy: %d' % float((np.dot(Y_test,predictions.T) + np.dot(1-Y_test,1-predictions.T))/float(Y_test.size)*100) + '%')"
      ]
    },
    {
      "cell_type": "markdown",
      "id": "00b46d2a",
      "metadata": {
        "id": "00b46d2a"
      },
      "source": [
        "## Tunning the Size of Hidden Layer"
      ]
    },
    {
      "cell_type": "markdown",
      "id": "52bd5a48",
      "metadata": {
        "id": "52bd5a48"
      },
      "source": [
        "Run the following code to see which size for the hodden layer gives you the best performance"
      ]
    },
    {
      "cell_type": "code",
      "execution_count": 44,
      "id": "7f6789dd",
      "metadata": {
        "id": "7f6789dd",
        "colab": {
          "base_uri": "https://localhost:8080/",
          "height": 191
        },
        "outputId": "1bfd3576-027b-4e4e-9595-882fd665eb5f"
      },
      "outputs": [
        {
          "output_type": "stream",
          "name": "stdout",
          "text": [
            "Accuracy for 1 hidden units: 76.19047619047619 %\n",
            "Accuracy for 2 hidden units: 78.57142857142857 %\n",
            "Accuracy for 3 hidden units: 78.57142857142857 %\n",
            "Accuracy for 4 hidden units: 85.71428571428571 %\n",
            "Accuracy for 5 hidden units: 85.71428571428571 %\n",
            "Accuracy for 10 hidden units: 83.33333333333334 %\n",
            "Accuracy for 20 hidden units: 83.33333333333334 %\n",
            "Accuracy for 30 hidden units: 80.95238095238095 %\n",
            "Accuracy for 50 hidden units: 80.95238095238095 %\n"
          ]
        },
        {
          "output_type": "display_data",
          "data": {
            "text/plain": [
              "<Figure size 1152x2304 with 0 Axes>"
            ]
          },
          "metadata": {}
        }
      ],
      "source": [
        "plt.figure(figsize=(16, 32))\n",
        "hidden_layer_sizes = [1, 2, 3, 4, 5, 10, 20, 30,50]\n",
        "for i, num_hidden_units in enumerate(hidden_layer_sizes):\n",
        "    parameters = train_nn_model(X_train.T, np.expand_dims(Y_train,axis=0),num_hidden_units ,0.01, num_iterations = 100000)\n",
        "    predictions = predict(parameters, X_test.T)\n",
        "    accuracy = float((np.dot(Y_test,predictions.T) + np.dot(1-Y_test,1-predictions.T))/float(Y_test.size)*100)\n",
        "    print (\"Accuracy for {} hidden units: {} %\".format(num_hidden_units, accuracy))"
      ]
    },
    {
      "cell_type": "markdown",
      "id": "17af352a",
      "metadata": {
        "id": "17af352a"
      },
      "source": [
        "Which one was the best model?"
      ]
    },
    {
      "cell_type": "markdown",
      "id": "c592b025",
      "metadata": {
        "id": "c592b025"
      },
      "source": [
        "* Accuracy for 1 hidden units: 76.19047619047619 %\n",
        "* Accuracy for 2 hidden units: 78.57142857142857 %\n",
        "* Accuracy for 3 hidden units: 78.57142857142857 %\n",
        "* Accuracy for 4 hidden units: 85.71428571428571 %\n",
        "* Accuracy for 5 hidden units: 85.71428571428571 %\n",
        "* Accuracy for 10 hidden units: 83.33333333333334 %\n",
        "* Accuracy for 20 hidden units: 83.33333333333334 %\n",
        "* Accuracy for 30 hidden units: 80.95238095238095 %\n",
        "* Accuracy for 50 hidden units: 80.95238095238095 %\n",
        "\n",
        "With 100,000 iterations set for all, model with 4 hidden units seems to achieve the highest accuracy with lowest processing cost."
      ]
    }
  ],
  "metadata": {
    "kernelspec": {
      "display_name": "Python 3 (ipykernel)",
      "language": "python",
      "name": "python3"
    },
    "language_info": {
      "codemirror_mode": {
        "name": "ipython",
        "version": 3
      },
      "file_extension": ".py",
      "mimetype": "text/x-python",
      "name": "python",
      "nbconvert_exporter": "python",
      "pygments_lexer": "ipython3",
      "version": "3.9.12"
    },
    "colab": {
      "provenance": []
    }
  },
  "nbformat": 4,
  "nbformat_minor": 5
}